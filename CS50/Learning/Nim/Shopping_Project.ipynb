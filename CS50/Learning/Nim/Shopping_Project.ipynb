{
  "nbformat": 4,
  "nbformat_minor": 0,
  "metadata": {
    "colab": {
      "name": "Shopping Project.ipynb",
      "provenance": [],
      "toc_visible": true,
      "mount_file_id": "1_jvDWvLm4IicWj2Cmbgl98lgZlITx23h",
      "authorship_tag": "ABX9TyOIi11ZSr137d8EyA6OIJDV",
      "include_colab_link": true
    },
    "kernelspec": {
      "name": "python3",
      "display_name": "Python 3"
    }
  },
  "cells": [
    {
      "cell_type": "markdown",
      "metadata": {
        "id": "view-in-github",
        "colab_type": "text"
      },
      "source": [
        "<a href=\"https://colab.research.google.com/github/aniketmodi-work/AI-NMIMS/blob/master/CS50/Learning/Nim/Shopping_Project.ipynb\" target=\"_parent\"><img src=\"https://colab.research.google.com/assets/colab-badge.svg\" alt=\"Open In Colab\"/></a>"
      ]
    },
    {
      "cell_type": "markdown",
      "metadata": {
        "id": "4uNEf9O1UaSg"
      },
      "source": [
        "### Project by: Aniket Modi, J064"
      ]
    },
    {
      "cell_type": "markdown",
      "metadata": {
        "id": "TDXhxt5gU_UK"
      },
      "source": [
        "## Shopping"
      ]
    },
    {
      "cell_type": "markdown",
      "metadata": {
        "id": "vbBh36YFQcYm"
      },
      "source": [
        "###About the project"
      ]
    },
    {
      "cell_type": "markdown",
      "metadata": {
        "id": "KMaiFFyGQc9Q"
      },
      "source": [
        "When users are shopping online, not all will end up purchasing something. Most visitors to an online shopping website, in fact, likely don’t end up going through with a purchase during that web browsing session. It might be useful, though, for a shopping website to be able to predict whether a user intends to make a purchase or not: perhaps displaying different content to the user, like showing the user a discount offer if the website believes the user isn’t planning to complete the purchase. How could a website determine a user’s purchasing intent? That’s where machine learning will come in.\n",
        "\n",
        "Your task in this problem is to build a nearest-neighbor classifier to solve this problem. Given information about a user — how many pages they’ve visited, whether they’re shopping on a weekend, what web browser they’re using, etc. — your classifier will predict whether or not the user will make a purchase. Your classifier won’t be perfectly accurate — perfectly modeling human behavior is a task well beyond the scope of this class — but it should be better than guessing randomly. To train your classifier, we’ll provide you with some data from a shopping website from about 12,000 users sessions.\n",
        "\n",
        "How do we measure the accuracy of a system like this? If we have a testing data set, we could run our classifier on the data, and compute what proportion of the time we correctly classify the user’s intent. This would give us a single accuracy percentage. But that number might be a little misleading. Imagine, for example, if about 15% of all users end up going through with a purchase. A classifier that always predicted that the user would not go through with a purchase, then, we would measure as being 85% accurate: the only users it classifies incorrectly are the 15% of users who do go through with a purchase. And while 85% accuracy sounds pretty good, that doesn’t seem like a very useful classifier.\n",
        "\n",
        "Instead, we’ll measure two values: sensitivity (also known as the “true positive rate”) and specificity (also known as the “true negative rate”). Sensitivity refers to the proportion of positive examples that were correctly identified: in other words, the proportion of users who did go through with a purchase who were correctly identified. Specificity refers to the proportion of negative examples that were correctly identified: in this case, the proportion of users who did not go through with a purchase who were correctly identified. So our “always guess no” classifier from before would have perfect specificity (1.0) but no sensitivity (0.0). Our goal is to build a classifier that performs reasonably on both metrics."
      ]
    },
    {
      "cell_type": "code",
      "metadata": {
        "id": "yty0euRsQUj5"
      },
      "source": [
        "import csv\n",
        "import pandas as pd\n",
        "import numpy as np\n",
        "import matplotlib.pyplot as plt\n",
        "import sklearn\n",
        "from sklearn.model_selection import train_test_split\n",
        "from sklearn.neighbors import KNeighborsClassifier"
      ],
      "execution_count": 10,
      "outputs": []
    },
    {
      "cell_type": "markdown",
      "metadata": {
        "id": "OuVueIjSQk4y"
      },
      "source": [
        "### Data collection and preprocessing"
      ]
    },
    {
      "cell_type": "markdown",
      "metadata": {
        "id": "Gj_AmM28Royr"
      },
      "source": [
        "Function to load data"
      ]
    },
    {
      "cell_type": "code",
      "metadata": {
        "id": "GviSI5MXQz08"
      },
      "source": [
        "def load_data(filename):\n",
        "    \"\"\"\n",
        "    Load shopping data from a CSV file `filename` and convert into a list of\n",
        "    evidence lists and a list of labels. Return a tuple (evidence, labels).\n",
        "    evidence should be a list of lists, where each list contains the\n",
        "    following values, in order:\n",
        "        - Administrative, an integer\n",
        "        - Administrative_Duration, a floating point number\n",
        "        - Informational, an integer\n",
        "        - Informational_Duration, a floating point number\n",
        "        - ProductRelated, an integer\n",
        "        - ProductRelated_Duration, a floating point number\n",
        "        - BounceRates, a floating point number\n",
        "        - ExitRates, a floating point number\n",
        "        - PageValues, a floating point number\n",
        "        - SpecialDay, a floating point number\n",
        "        - Month, an index from 0 (January) to 11 (December)\n",
        "        - OperatingSystems, an integer\n",
        "        - Browser, an integer\n",
        "        - Region, an integer\n",
        "        - TrafficType, an integer\n",
        "        - VisitorType, an integer 0 (not returning) or 1 (returning)\n",
        "        - Weekend, an integer 0 (if false) or 1 (if true)\n",
        "    labels should be the corresponding list of labels, where each label\n",
        "    is 1 if Revenue is true, and 0 otherwise.\n",
        "    \"\"\"\n",
        "    evidence, labels = [], []\n",
        "    month_to_int = dict(Jan=0, Feb=1, Mar=2, Apr=3, May=4, June=5, Jul=6, Aug=7, Sep=8, Oct=9, Nov=10, Dec=11)\n",
        "    with open(filename, newline='') as csvfile:\n",
        "        reader = csv.DictReader(csvfile)\n",
        "        for row in reader:\n",
        "            evidence.append([\n",
        "                int(row[\"Administrative\"]),\n",
        "                float(row[\"Administrative_Duration\"]),\n",
        "                int(row[\"Informational\"]),\n",
        "                float(row[\"Informational_Duration\"]),\n",
        "                int(row[\"ProductRelated\"]),\n",
        "                float(row[\"ProductRelated_Duration\"]),\n",
        "                float(row[\"BounceRates\"]),\n",
        "                float(row[\"ExitRates\"]),\n",
        "                float(row[\"PageValues\"]),\n",
        "                float(row[\"SpecialDay\"]),\n",
        "                month_to_int[row[\"Month\"]],\n",
        "                int(row[\"OperatingSystems\"]),\n",
        "                int(row[\"Browser\"]),\n",
        "                int(row[\"Region\"]),\n",
        "                int(row[\"TrafficType\"]),\n",
        "                1 if row[\"VisitorType\"] == \"Returning_Visitor\" else 0,\n",
        "                1 if row[\"Weekend\"] == \"TRUE\" else 0,\n",
        "            ])\n",
        "            labels.append(1 if row[\"Revenue\"] == \"TRUE\" else 0)\n",
        "    return evidence, labels"
      ],
      "execution_count": 2,
      "outputs": []
    },
    {
      "cell_type": "markdown",
      "metadata": {
        "id": "MpjjJqSYRtJl"
      },
      "source": [
        "Loading data"
      ]
    },
    {
      "cell_type": "code",
      "metadata": {
        "id": "odmnJ-sSQ-sr"
      },
      "source": [
        "evidence, labels = load_data('/content/drive/My Drive/DATASETS/shopping/shopping.csv')"
      ],
      "execution_count": 3,
      "outputs": []
    },
    {
      "cell_type": "markdown",
      "metadata": {
        "id": "_8azvBfgRvX8"
      },
      "source": [
        "Splitting data"
      ]
    },
    {
      "cell_type": "code",
      "metadata": {
        "id": "8lMClGikRcGo"
      },
      "source": [
        "X_train, X_test, y_train, y_test = train_test_split(evidence, labels, test_size = 0.4)"
      ],
      "execution_count": 6,
      "outputs": []
    },
    {
      "cell_type": "markdown",
      "metadata": {
        "id": "OVa8HvAJSF-G"
      },
      "source": [
        "### Model Building"
      ]
    },
    {
      "cell_type": "markdown",
      "metadata": {
        "id": "QSQCUIHRSRMl"
      },
      "source": [
        "Function to train the model"
      ]
    },
    {
      "cell_type": "code",
      "metadata": {
        "id": "SkgTPxqZRwmp"
      },
      "source": [
        "def train_model(evidence, labels):\n",
        "    \"\"\"\n",
        "    Given a list of evidence lists and a list of labels, return a\n",
        "    fitted k-nearest neighbor model (k=1) trained on the data.\n",
        "    \"\"\"\n",
        "    model = KNeighborsClassifier(n_neighbors=1)\n",
        "    model.fit(evidence, labels)\n",
        "    return model"
      ],
      "execution_count": 7,
      "outputs": []
    },
    {
      "cell_type": "markdown",
      "metadata": {
        "id": "OW8I-WwHSZKH"
      },
      "source": [
        "Training the K-Nearest_Neighbors Classification Model with k = 1"
      ]
    },
    {
      "cell_type": "code",
      "metadata": {
        "id": "lOR3GooaSV9v"
      },
      "source": [
        "knn = train_model(evidence, labels)"
      ],
      "execution_count": 12,
      "outputs": []
    },
    {
      "cell_type": "markdown",
      "metadata": {
        "id": "Bl4mHDtZTVbV"
      },
      "source": [
        "Making predictions"
      ]
    },
    {
      "cell_type": "code",
      "metadata": {
        "id": "RjZWt-F0TaNN"
      },
      "source": [
        "predictions = knn.predict(X_test)"
      ],
      "execution_count": 15,
      "outputs": []
    },
    {
      "cell_type": "markdown",
      "metadata": {
        "id": "vquZCwySTz5-"
      },
      "source": [
        "### Model Evaluation"
      ]
    },
    {
      "cell_type": "markdown",
      "metadata": {
        "id": "QLqXMDuBS-eg"
      },
      "source": [
        "Function to evaluate the model"
      ]
    },
    {
      "cell_type": "code",
      "metadata": {
        "id": "obLZ0N21Si6A"
      },
      "source": [
        "def evaluate(labels, predictions):\n",
        "    \"\"\"\n",
        "    Given a list of actual labels and a list of predicted labels,\n",
        "    return a tuple (sensitivity, specificty).\n",
        "    Assume each label is either a 1 (positive) or 0 (negative).\n",
        "    `sensitivity` should be a floating-point value from 0 to 1\n",
        "    representing the \"true positive rate\": the proportion of\n",
        "    actual positive labels that were accurately identified.\n",
        "    `specificity` should be a floating-point value from 0 to 1\n",
        "    representing the \"true negative rate\": the proportion of\n",
        "    actual negative labels that were accurately identified.\n",
        "    \"\"\"\n",
        "    sensitivity, specificity = float(0), float(0)\n",
        "    positive, negative = float(0), float(0)\n",
        "    for label, prediction in zip(labels, predictions):\n",
        "        if label == 1:\n",
        "            positive += 1\n",
        "            if label == prediction:\n",
        "                sensitivity += 1\n",
        "\n",
        "        if label == 0:\n",
        "            negative += 1\n",
        "            if label == prediction:\n",
        "                specificity += 1\n",
        "\n",
        "    sensitivity /= positive\n",
        "    specificity /= negative\n",
        "\n",
        "    return sensitivity, specificity"
      ],
      "execution_count": 16,
      "outputs": []
    },
    {
      "cell_type": "markdown",
      "metadata": {
        "id": "Dk1gSJTdTAYU"
      },
      "source": [
        "Evaluating the current model"
      ]
    },
    {
      "cell_type": "code",
      "metadata": {
        "id": "TET9Q7BHTHXy",
        "outputId": "d8e87d59-9f6b-4f5a-d970-a10aab6f09aa",
        "colab": {
          "base_uri": "https://localhost:8080/",
          "height": 84
        }
      },
      "source": [
        "sensitivity, specificity = evaluate(y_test, predictions)\n",
        "print(f\"Correct: {(y_test == predictions).sum()}\")\n",
        "print(f\"Incorrect: {(y_test != predictions).sum()}\")\n",
        "print(f\"True Positive Rate: {100 * sensitivity:.2f}%\")\n",
        "print(f\"True Negative Rate: {100 * specificity:.2f}%\")"
      ],
      "execution_count": 20,
      "outputs": [
        {
          "output_type": "stream",
          "text": [
            "Correct: 4932\n",
            "Incorrect: 0\n",
            "True Positive Rate: 100.00%\n",
            "True Negative Rate: 100.00%\n"
          ],
          "name": "stdout"
        }
      ]
    },
    {
      "cell_type": "markdown",
      "metadata": {
        "id": "metEWNkQT2IN"
      },
      "source": [
        "### **Final Accuracy: 100%**"
      ]
    }
  ]
}