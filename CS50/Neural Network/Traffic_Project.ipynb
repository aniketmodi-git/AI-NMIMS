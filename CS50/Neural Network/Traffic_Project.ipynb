{
  "nbformat": 4,
  "nbformat_minor": 0,
  "metadata": {
    "colab": {
      "name": "CS50AI Neural Network Traffic Project.ipynb",
      "provenance": [],
      "collapsed_sections": [
        "qRHtnDB56-ip",
        "cDjBzNeUCT7p",
        "di3uqo9aCYgf"
      ],
      "mount_file_id": "10brlm6hj6mTIVlJQZr5i-UcQeUjSpvXN",
      "authorship_tag": "ABX9TyPj1/m2k5Mz0k8NbtW6HFiK",
      "include_colab_link": true
    },
    "kernelspec": {
      "name": "python3",
      "display_name": "Python 3"
    },
    "accelerator": "GPU"
  },
  "cells": [
    {
      "cell_type": "markdown",
      "metadata": {
        "id": "view-in-github",
        "colab_type": "text"
      },
      "source": [
        "<a href=\"https://colab.research.google.com/github/aniketmodi-work/AI-NMIMS/blob/master/CS50/Neural%20Network/Traffic_Project.ipynb\" target=\"_parent\"><img src=\"https://colab.research.google.com/assets/colab-badge.svg\" alt=\"Open In Colab\"/></a>"
      ]
    },
    {
      "cell_type": "markdown",
      "metadata": {
        "id": "ho-HcRmzL4mF"
      },
      "source": [
        "### Project by: Aniket Modi, J064"
      ]
    },
    {
      "cell_type": "markdown",
      "metadata": {
        "id": "zWOTPsT7C_q4"
      },
      "source": [
        "### About the Project"
      ]
    },
    {
      "cell_type": "markdown",
      "metadata": {
        "id": "KDH5nGcCDEoQ"
      },
      "source": [
        "As research continues in the development of self-driving cars, one of the key challenges is computer vision, allowing these cars to develop an understanding of their environment from digital images. In particular, this involves the ability to recognize and distinguish road signs – stop signs, speed limit signs, yield signs, and more.\n",
        "\n",
        "In this project, you’ll use TensorFlow to build a neural network to classify road signs based on an image of those signs. To do so, you’ll need a labeled dataset: a collection of images that have already been categorized by the road sign represented in them.\n",
        "\n",
        "Several such data sets exist, but for this project, we’ll use the German Traffic Sign Recognition Benchmark (GTSRB) dataset, which contains thousands of images of 43 different kinds of road signs."
      ]
    },
    {
      "cell_type": "markdown",
      "metadata": {
        "id": "qRHtnDB56-ip"
      },
      "source": [
        "### Image collection and Preprocessing"
      ]
    },
    {
      "cell_type": "markdown",
      "metadata": {
        "id": "raQmPGCWDM8F"
      },
      "source": [
        "Importing necessary libraries"
      ]
    },
    {
      "cell_type": "code",
      "metadata": {
        "id": "tJnE0m4NPRsK"
      },
      "source": [
        "import tensorflow as tf\n",
        "import keras\n",
        "import pandas as pd\n",
        "import numpy as np\n",
        "import matplotlib.pyplot as plt\n",
        "import sklearn\n",
        "from PIL import Image"
      ],
      "execution_count": 2,
      "outputs": []
    },
    {
      "cell_type": "markdown",
      "metadata": {
        "id": "GBMp4NasDPl9"
      },
      "source": [
        "gtsrb.zip is uploaded and is being unzipped onto using Python"
      ]
    },
    {
      "cell_type": "code",
      "metadata": {
        "id": "7poTDpRyteO_"
      },
      "source": [
        "# !unzip \"/content/drive/My Drive/DATASETS/gtsrb.zip\" -d \"/content/drive/My Drive/DATASETS\""
      ],
      "execution_count": null,
      "outputs": []
    },
    {
      "cell_type": "code",
      "metadata": {
        "id": "OuwUDmNvvBP4"
      },
      "source": [
        "import glob"
      ],
      "execution_count": 3,
      "outputs": []
    },
    {
      "cell_type": "markdown",
      "metadata": {
        "id": "Th3eRGJoDkUk"
      },
      "source": [
        "List of all folders available inside"
      ]
    },
    {
      "cell_type": "code",
      "metadata": {
        "id": "NlZsjQGjwgZr",
        "outputId": "2c1340b8-7094-4ac9-f416-de37f58ea6c1",
        "colab": {
          "base_uri": "https://localhost:8080/",
          "height": 739
        }
      },
      "source": [
        "folders = glob.glob('/content/drive/My Drive/DATASETS/gtsrb/*')\n",
        "folders"
      ],
      "execution_count": 4,
      "outputs": [
        {
          "output_type": "execute_result",
          "data": {
            "text/plain": [
              "['/content/drive/My Drive/DATASETS/gtsrb/2',\n",
              " '/content/drive/My Drive/DATASETS/gtsrb/22',\n",
              " '/content/drive/My Drive/DATASETS/gtsrb/5',\n",
              " '/content/drive/My Drive/DATASETS/gtsrb/25',\n",
              " '/content/drive/My Drive/DATASETS/gtsrb/12',\n",
              " '/content/drive/My Drive/DATASETS/gtsrb/40',\n",
              " '/content/drive/My Drive/DATASETS/gtsrb/14',\n",
              " '/content/drive/My Drive/DATASETS/gtsrb/13',\n",
              " '/content/drive/My Drive/DATASETS/gtsrb/32',\n",
              " '/content/drive/My Drive/DATASETS/gtsrb/35',\n",
              " '/content/drive/My Drive/DATASETS/gtsrb/34',\n",
              " '/content/drive/My Drive/DATASETS/gtsrb/33',\n",
              " '/content/drive/My Drive/DATASETS/gtsrb/20',\n",
              " '/content/drive/My Drive/DATASETS/gtsrb/18',\n",
              " '/content/drive/My Drive/DATASETS/gtsrb/27',\n",
              " '/content/drive/My Drive/DATASETS/gtsrb/9',\n",
              " '/content/drive/My Drive/DATASETS/gtsrb/0',\n",
              " '/content/drive/My Drive/DATASETS/gtsrb/11',\n",
              " '/content/drive/My Drive/DATASETS/gtsrb/7',\n",
              " '/content/drive/My Drive/DATASETS/gtsrb/29',\n",
              " '/content/drive/My Drive/DATASETS/gtsrb/16',\n",
              " '/content/drive/My Drive/DATASETS/gtsrb/42',\n",
              " '/content/drive/My Drive/DATASETS/gtsrb/6',\n",
              " '/content/drive/My Drive/DATASETS/gtsrb/28',\n",
              " '/content/drive/My Drive/DATASETS/gtsrb/17',\n",
              " '/content/drive/My Drive/DATASETS/gtsrb/1',\n",
              " '/content/drive/My Drive/DATASETS/gtsrb/10',\n",
              " '/content/drive/My Drive/DATASETS/gtsrb/19',\n",
              " '/content/drive/My Drive/DATASETS/gtsrb/26',\n",
              " '/content/drive/My Drive/DATASETS/gtsrb/8',\n",
              " '/content/drive/My Drive/DATASETS/gtsrb/21',\n",
              " '/content/drive/My Drive/DATASETS/gtsrb/38',\n",
              " '/content/drive/My Drive/DATASETS/gtsrb/36',\n",
              " '/content/drive/My Drive/DATASETS/gtsrb/31',\n",
              " '/content/drive/My Drive/DATASETS/gtsrb/30',\n",
              " '/content/drive/My Drive/DATASETS/gtsrb/37',\n",
              " '/content/drive/My Drive/DATASETS/gtsrb/39',\n",
              " '/content/drive/My Drive/DATASETS/gtsrb/41',\n",
              " '/content/drive/My Drive/DATASETS/gtsrb/24',\n",
              " '/content/drive/My Drive/DATASETS/gtsrb/23',\n",
              " '/content/drive/My Drive/DATASETS/gtsrb/4',\n",
              " '/content/drive/My Drive/DATASETS/gtsrb/15',\n",
              " '/content/drive/My Drive/DATASETS/gtsrb/3']"
            ]
          },
          "metadata": {
            "tags": []
          },
          "execution_count": 4
        }
      ]
    },
    {
      "cell_type": "code",
      "metadata": {
        "id": "EtKY_DgIwo-3",
        "outputId": "669190f2-517e-48b6-fc12-1da6e67742d3",
        "colab": {
          "base_uri": "https://localhost:8080/",
          "height": 34
        }
      },
      "source": [
        "labels = []\n",
        "files_path = []\n",
        "for path in folders:\n",
        "\n",
        "    current_list = glob.glob(path + '/*')\n",
        "    a = path\n",
        "    for i in range(len(current_list)):\n",
        "        \n",
        "        labels.append(int(a.replace('/content/drive/My Drive/DATASETS/gtsrb/', '')))\n",
        "        files_path.append(current_list[i])\n",
        "\n",
        "len(files_path)"
      ],
      "execution_count": 5,
      "outputs": [
        {
          "output_type": "execute_result",
          "data": {
            "text/plain": [
              "26640"
            ]
          },
          "metadata": {
            "tags": []
          },
          "execution_count": 5
        }
      ]
    },
    {
      "cell_type": "markdown",
      "metadata": {
        "id": "C9PLzBNODx1D"
      },
      "source": [
        "Number of classes and their respective sizes"
      ]
    },
    {
      "cell_type": "code",
      "metadata": {
        "id": "UTnIlTGx1lGR",
        "outputId": "c6eb14fb-b25e-4abc-872a-9fe60c829b0a",
        "colab": {
          "base_uri": "https://localhost:8080/",
          "height": 756
        }
      },
      "source": [
        "pd.DataFrame(labels)[0].value_counts()"
      ],
      "execution_count": 6,
      "outputs": [
        {
          "output_type": "execute_result",
          "data": {
            "text/plain": [
              "1     1500\n",
              "2     1500\n",
              "13    1440\n",
              "12    1410\n",
              "38    1380\n",
              "10    1350\n",
              "4     1320\n",
              "5     1260\n",
              "25    1020\n",
              "9      990\n",
              "7      960\n",
              "8      960\n",
              "3      960\n",
              "11     900\n",
              "35     810\n",
              "18     810\n",
              "17     750\n",
              "31     540\n",
              "14     540\n",
              "33     480\n",
              "26     420\n",
              "15     420\n",
              "28     360\n",
              "23     360\n",
              "6      300\n",
              "16     300\n",
              "30     300\n",
              "34     300\n",
              "22     270\n",
              "36     270\n",
              "21     240\n",
              "20     240\n",
              "40     240\n",
              "39     210\n",
              "29     180\n",
              "32     180\n",
              "24     180\n",
              "27     180\n",
              "42     180\n",
              "41     180\n",
              "19     150\n",
              "37     150\n",
              "0      150\n",
              "Name: 0, dtype: int64"
            ]
          },
          "metadata": {
            "tags": []
          },
          "execution_count": 6
        }
      ]
    },
    {
      "cell_type": "markdown",
      "metadata": {
        "id": "ko5F1wh_D4sE"
      },
      "source": [
        "Opening and storing all images inside a list"
      ]
    },
    {
      "cell_type": "code",
      "metadata": {
        "id": "YY6Hm7B81rza"
      },
      "source": [
        "images = []\n",
        "for path in files_path:\n",
        "    images.append(Image.open(path))\n",
        "len(images)"
      ],
      "execution_count": null,
      "outputs": []
    },
    {
      "cell_type": "markdown",
      "metadata": {
        "id": "KuJMDmyYEIkN"
      },
      "source": [
        "Returning lowest sized image"
      ]
    },
    {
      "cell_type": "code",
      "metadata": {
        "id": "1H2dkU3q24s0",
        "outputId": "0693d939-90a2-4da6-8429-a41697435693",
        "colab": {
          "base_uri": "https://localhost:8080/"
        }
      },
      "source": [
        "h = []\n",
        "w = []\n",
        "for i in range(len(images)):\n",
        "    h.append(images[i].size[0])\n",
        "    w.append(images[i].size[1])\n",
        "print(min(h))\n",
        "print(min(w))"
      ],
      "execution_count": null,
      "outputs": [
        {
          "output_type": "stream",
          "text": [
            "25\n",
            "25\n"
          ],
          "name": "stdout"
        }
      ]
    },
    {
      "cell_type": "markdown",
      "metadata": {
        "id": "0dje7koBEPpg"
      },
      "source": [
        "Resizing all the images to the size of the tiniest image"
      ]
    },
    {
      "cell_type": "code",
      "metadata": {
        "id": "h6pj2ttb28HG",
        "outputId": "92a8a3a8-f5af-45ee-cb3d-34215a5b943c",
        "colab": {
          "base_uri": "https://localhost:8080/"
        }
      },
      "source": [
        "images_resized = []\n",
        "for i in range(len(images)):\n",
        "    images_resized.append(images[i].resize((25,25)))\n",
        "images_resized[0].size"
      ],
      "execution_count": null,
      "outputs": [
        {
          "output_type": "execute_result",
          "data": {
            "text/plain": [
              "(25, 25)"
            ]
          },
          "metadata": {
            "tags": []
          },
          "execution_count": 15
        }
      ]
    },
    {
      "cell_type": "markdown",
      "metadata": {
        "id": "wjVpqmG2EeuL"
      },
      "source": [
        "Storing all the images as numpy arrays"
      ]
    },
    {
      "cell_type": "code",
      "metadata": {
        "id": "sCaB1u0F5nLY",
        "outputId": "4e50f904-09c7-4599-d6c7-0faf4ab1f71f",
        "colab": {
          "base_uri": "https://localhost:8080/"
        }
      },
      "source": [
        "x = []\n",
        "for i in range(len(images_resized)):\n",
        "    x.append(np.array(images_resized[i]))\n",
        "x = np.array(x)\n",
        "x.shape"
      ],
      "execution_count": null,
      "outputs": [
        {
          "output_type": "execute_result",
          "data": {
            "text/plain": [
              "(26640, 25, 25, 3)"
            ]
          },
          "metadata": {
            "tags": []
          },
          "execution_count": 18
        }
      ]
    },
    {
      "cell_type": "code",
      "metadata": {
        "id": "RuRBcx6G540a",
        "outputId": "c67347c7-b710-40e5-e597-c216978ca789",
        "colab": {
          "base_uri": "https://localhost:8080/"
        }
      },
      "source": [
        "y = labels\n",
        "y = np.array(y)\n",
        "y.shape"
      ],
      "execution_count": null,
      "outputs": [
        {
          "output_type": "execute_result",
          "data": {
            "text/plain": [
              "(26640,)"
            ]
          },
          "metadata": {
            "tags": []
          },
          "execution_count": 19
        }
      ]
    },
    {
      "cell_type": "markdown",
      "metadata": {
        "id": "nk2ri32XLJZX"
      },
      "source": [
        "Splitting into training and testing 40 percent"
      ]
    },
    {
      "cell_type": "code",
      "metadata": {
        "id": "YuJkb7V26BKr",
        "outputId": "044bf566-77a1-4260-8291-8ff39a1f3972",
        "colab": {
          "base_uri": "https://localhost:8080/",
          "height": 84
        }
      },
      "source": [
        "from sklearn.model_selection import train_test_split\n",
        "X_train, X_test , y_train, y_test = train_test_split(x,y, test_size = 0.4)\n",
        "print(X_train.shape)\n",
        "print(X_test.shape)\n",
        "print(y_train.shape)\n",
        "print(y_test.shape)"
      ],
      "execution_count": null,
      "outputs": [
        {
          "output_type": "stream",
          "text": [
            "(15984, 25, 25, 3)\n",
            "(10656, 25, 25, 3)\n",
            "(15984,)\n",
            "(10656,)\n"
          ],
          "name": "stdout"
        }
      ]
    },
    {
      "cell_type": "markdown",
      "metadata": {
        "id": "9mmWSOIo7H74"
      },
      "source": [
        "### Model Building"
      ]
    },
    {
      "cell_type": "code",
      "metadata": {
        "id": "lbU4hrbC7zSQ",
        "outputId": "361b7030-3847-484a-b226-75856e410c94",
        "colab": {
          "base_uri": "https://localhost:8080/",
          "height": 34
        }
      },
      "source": [
        "X_train.shape"
      ],
      "execution_count": null,
      "outputs": [
        {
          "output_type": "execute_result",
          "data": {
            "text/plain": [
              "(15984, 25, 25, 3)"
            ]
          },
          "metadata": {
            "tags": []
          },
          "execution_count": 21
        }
      ]
    },
    {
      "cell_type": "code",
      "metadata": {
        "id": "OqlcRN4360W_"
      },
      "source": [
        "keras.utils.to_categorical(y_train).shape"
      ],
      "execution_count": null,
      "outputs": []
    },
    {
      "cell_type": "code",
      "metadata": {
        "id": "_E6IqdN17p_U"
      },
      "source": [
        "from keras import models\n",
        "from keras import layers"
      ],
      "execution_count": null,
      "outputs": []
    },
    {
      "cell_type": "markdown",
      "metadata": {
        "id": "8UpKTXj6LX7F"
      },
      "source": [
        "Using Convolutional Neural Network with 2 Convolution layers + MaxPooling + 25 percent dropout and Dense layers"
      ]
    },
    {
      "cell_type": "code",
      "metadata": {
        "id": "qNReHTeqA4v_",
        "outputId": "ceca3ae8-fceb-48e3-de49-2738552fed7a",
        "colab": {
          "base_uri": "https://localhost:8080/",
          "height": 454
        }
      },
      "source": [
        "nn = models.Sequential()\n",
        "\n",
        "nn.add(layers.Conv2D(filters = 64,\n",
        "                     kernel_size = (3,3),\n",
        "                     activation = 'relu',\n",
        "                     padding = 'same',\n",
        "                     input_shape = (25,25,3)))\n",
        "\n",
        "nn.add(layers.MaxPooling2D(pool_size = (2,2)))\n",
        "\n",
        "nn.add(layers.Dropout(0.25))\n",
        "\n",
        "nn.add(layers.Conv2D(filters = 64,\n",
        "                     kernel_size = (3,3),\n",
        "                     activation = 'relu',\n",
        "                     padding = 'same'))\n",
        "\n",
        "nn.add(layers.MaxPooling2D(pool_size = (2,2)))\n",
        "\n",
        "nn.add(layers.Flatten())\n",
        "\n",
        "nn.add(layers.Dense(units = 128,\n",
        "                    activation = 'relu'))\n",
        "\n",
        "nn.add(layers.Dense(units = 64,\n",
        "                    activation = 'relu'))\n",
        "\n",
        "nn.add(layers.Dense(units = 43,\n",
        "                    activation = 'softmax'))\n",
        "\n",
        "nn.summary()"
      ],
      "execution_count": null,
      "outputs": [
        {
          "output_type": "stream",
          "text": [
            "Model: \"sequential_7\"\n",
            "_________________________________________________________________\n",
            "Layer (type)                 Output Shape              Param #   \n",
            "=================================================================\n",
            "conv2d_16 (Conv2D)           (None, 25, 25, 64)        1792      \n",
            "_________________________________________________________________\n",
            "max_pooling2d_16 (MaxPooling (None, 12, 12, 64)        0         \n",
            "_________________________________________________________________\n",
            "dropout_19 (Dropout)         (None, 12, 12, 64)        0         \n",
            "_________________________________________________________________\n",
            "conv2d_17 (Conv2D)           (None, 12, 12, 64)        36928     \n",
            "_________________________________________________________________\n",
            "max_pooling2d_17 (MaxPooling (None, 6, 6, 64)          0         \n",
            "_________________________________________________________________\n",
            "flatten_7 (Flatten)          (None, 2304)              0         \n",
            "_________________________________________________________________\n",
            "dense_21 (Dense)             (None, 128)               295040    \n",
            "_________________________________________________________________\n",
            "dense_22 (Dense)             (None, 64)                8256      \n",
            "_________________________________________________________________\n",
            "dense_23 (Dense)             (None, 10)                650       \n",
            "=================================================================\n",
            "Total params: 342,666\n",
            "Trainable params: 342,666\n",
            "Non-trainable params: 0\n",
            "_________________________________________________________________\n"
          ],
          "name": "stdout"
        }
      ]
    },
    {
      "cell_type": "markdown",
      "metadata": {
        "id": "V0MZ_CKeMYnu"
      },
      "source": [
        "### Model Compilation"
      ]
    },
    {
      "cell_type": "code",
      "metadata": {
        "id": "lkes7jYbBQQ_",
        "outputId": "45d7c8e4-bcac-494e-da63-9af3a8735414",
        "colab": {
          "base_uri": "https://localhost:8080/",
          "height": 1000
        }
      },
      "source": [
        "nn.compile(optimizer = 'adam',\n",
        "           loss = 'categorical_crossentropy',\n",
        "           metrics = ['accuracy'])\n",
        "\n",
        "history = nn.fit(x = X_train,\n",
        "                 y = keras.utils.to_categorical(y_train),\n",
        "                 epochs = 50,\n",
        "                 validation_data = (X_test, keras.utils.to_categorical(y_test)))"
      ],
      "execution_count": null,
      "outputs": [
        {
          "output_type": "stream",
          "text": [
            "Epoch 1/50\n",
            "500/500 [==============================] - 2s 5ms/step - loss: 2.7838 - accuracy: 0.3052 - val_loss: 1.4274 - val_accuracy: 0.5249\n",
            "Epoch 2/50\n",
            "500/500 [==============================] - 2s 4ms/step - loss: 1.1665 - accuracy: 0.6164 - val_loss: 0.8556 - val_accuracy: 0.7272\n",
            "Epoch 3/50\n",
            "500/500 [==============================] - 2s 4ms/step - loss: 0.7347 - accuracy: 0.7626 - val_loss: 0.5292 - val_accuracy: 0.8367\n",
            "Epoch 4/50\n",
            "500/500 [==============================] - 2s 4ms/step - loss: 0.5022 - accuracy: 0.8390 - val_loss: 0.3589 - val_accuracy: 0.8982\n",
            "Epoch 5/50\n",
            "500/500 [==============================] - 2s 4ms/step - loss: 0.3754 - accuracy: 0.8828 - val_loss: 0.2693 - val_accuracy: 0.9200\n",
            "Epoch 6/50\n",
            "500/500 [==============================] - 2s 4ms/step - loss: 0.2948 - accuracy: 0.9084 - val_loss: 0.3003 - val_accuracy: 0.9127\n",
            "Epoch 7/50\n",
            "500/500 [==============================] - 2s 4ms/step - loss: 0.2233 - accuracy: 0.9293 - val_loss: 0.1877 - val_accuracy: 0.9488\n",
            "Epoch 8/50\n",
            "500/500 [==============================] - 2s 4ms/step - loss: 0.2205 - accuracy: 0.9344 - val_loss: 0.1692 - val_accuracy: 0.9536\n",
            "Epoch 9/50\n",
            "500/500 [==============================] - 2s 4ms/step - loss: 0.1739 - accuracy: 0.9506 - val_loss: 0.1898 - val_accuracy: 0.9531\n",
            "Epoch 10/50\n",
            "500/500 [==============================] - 2s 4ms/step - loss: 0.1948 - accuracy: 0.9446 - val_loss: 0.2060 - val_accuracy: 0.9459\n",
            "Epoch 11/50\n",
            "500/500 [==============================] - 2s 4ms/step - loss: 0.1946 - accuracy: 0.9442 - val_loss: 0.1581 - val_accuracy: 0.9591\n",
            "Epoch 12/50\n",
            "500/500 [==============================] - 2s 4ms/step - loss: 0.1612 - accuracy: 0.9550 - val_loss: 0.1778 - val_accuracy: 0.9566\n",
            "Epoch 13/50\n",
            "500/500 [==============================] - 2s 4ms/step - loss: 0.1365 - accuracy: 0.9610 - val_loss: 0.1116 - val_accuracy: 0.9726\n",
            "Epoch 14/50\n",
            "500/500 [==============================] - 2s 4ms/step - loss: 0.1173 - accuracy: 0.9665 - val_loss: 0.1212 - val_accuracy: 0.9696\n",
            "Epoch 15/50\n",
            "500/500 [==============================] - 2s 4ms/step - loss: 0.1502 - accuracy: 0.9608 - val_loss: 0.1462 - val_accuracy: 0.9626\n",
            "Epoch 16/50\n",
            "500/500 [==============================] - 2s 4ms/step - loss: 0.1152 - accuracy: 0.9673 - val_loss: 0.1378 - val_accuracy: 0.9666\n",
            "Epoch 17/50\n",
            "500/500 [==============================] - 2s 4ms/step - loss: 0.0867 - accuracy: 0.9762 - val_loss: 0.1484 - val_accuracy: 0.9710\n",
            "Epoch 18/50\n",
            "500/500 [==============================] - 2s 4ms/step - loss: 0.1630 - accuracy: 0.9589 - val_loss: 0.1615 - val_accuracy: 0.9691\n",
            "Epoch 19/50\n",
            "500/500 [==============================] - 2s 4ms/step - loss: 0.0924 - accuracy: 0.9760 - val_loss: 0.1410 - val_accuracy: 0.9679\n",
            "Epoch 20/50\n",
            "500/500 [==============================] - 2s 4ms/step - loss: 0.1251 - accuracy: 0.9692 - val_loss: 0.1795 - val_accuracy: 0.9627\n",
            "Epoch 21/50\n",
            "500/500 [==============================] - 2s 4ms/step - loss: 0.0966 - accuracy: 0.9748 - val_loss: 0.1009 - val_accuracy: 0.9776\n",
            "Epoch 22/50\n",
            "500/500 [==============================] - 2s 4ms/step - loss: 0.1365 - accuracy: 0.9687 - val_loss: 0.1294 - val_accuracy: 0.9725\n",
            "Epoch 23/50\n",
            "500/500 [==============================] - 2s 4ms/step - loss: 0.1075 - accuracy: 0.9744 - val_loss: 0.1065 - val_accuracy: 0.9761\n",
            "Epoch 24/50\n",
            "500/500 [==============================] - 2s 4ms/step - loss: 0.0953 - accuracy: 0.9752 - val_loss: 0.1493 - val_accuracy: 0.9723\n",
            "Epoch 25/50\n",
            "500/500 [==============================] - 2s 4ms/step - loss: 0.0756 - accuracy: 0.9802 - val_loss: 0.0935 - val_accuracy: 0.9823\n",
            "Epoch 26/50\n",
            "500/500 [==============================] - 2s 4ms/step - loss: 0.0744 - accuracy: 0.9815 - val_loss: 0.1409 - val_accuracy: 0.9718\n",
            "Epoch 27/50\n",
            "500/500 [==============================] - 2s 4ms/step - loss: 0.1145 - accuracy: 0.9730 - val_loss: 0.1166 - val_accuracy: 0.9790\n",
            "Epoch 28/50\n",
            "500/500 [==============================] - 2s 4ms/step - loss: 0.0947 - accuracy: 0.9788 - val_loss: 0.1243 - val_accuracy: 0.9790\n",
            "Epoch 29/50\n",
            "500/500 [==============================] - 2s 4ms/step - loss: 0.0680 - accuracy: 0.9835 - val_loss: 0.1399 - val_accuracy: 0.9723\n",
            "Epoch 30/50\n",
            "500/500 [==============================] - 2s 4ms/step - loss: 0.1092 - accuracy: 0.9773 - val_loss: 0.1259 - val_accuracy: 0.9778\n",
            "Epoch 31/50\n",
            "500/500 [==============================] - 2s 4ms/step - loss: 0.0653 - accuracy: 0.9832 - val_loss: 0.1070 - val_accuracy: 0.9844\n",
            "Epoch 32/50\n",
            "500/500 [==============================] - 2s 4ms/step - loss: 0.1085 - accuracy: 0.9755 - val_loss: 0.1207 - val_accuracy: 0.9801\n",
            "Epoch 33/50\n",
            "500/500 [==============================] - 2s 4ms/step - loss: 0.0640 - accuracy: 0.9832 - val_loss: 0.1161 - val_accuracy: 0.9792\n",
            "Epoch 34/50\n",
            "500/500 [==============================] - 2s 4ms/step - loss: 0.0560 - accuracy: 0.9862 - val_loss: 0.1079 - val_accuracy: 0.9849\n",
            "Epoch 35/50\n",
            "500/500 [==============================] - 2s 4ms/step - loss: 0.0649 - accuracy: 0.9844 - val_loss: 0.1642 - val_accuracy: 0.9716\n",
            "Epoch 36/50\n",
            "500/500 [==============================] - 2s 4ms/step - loss: 0.0887 - accuracy: 0.9815 - val_loss: 0.1025 - val_accuracy: 0.9847\n",
            "Epoch 37/50\n",
            "500/500 [==============================] - 2s 4ms/step - loss: 0.0487 - accuracy: 0.9882 - val_loss: 0.1069 - val_accuracy: 0.9834\n",
            "Epoch 38/50\n",
            "500/500 [==============================] - 2s 4ms/step - loss: 0.0834 - accuracy: 0.9816 - val_loss: 0.1284 - val_accuracy: 0.9835\n",
            "Epoch 39/50\n",
            "500/500 [==============================] - 2s 4ms/step - loss: 0.0925 - accuracy: 0.9809 - val_loss: 0.1066 - val_accuracy: 0.9813\n",
            "Epoch 40/50\n",
            "500/500 [==============================] - 2s 4ms/step - loss: 0.0675 - accuracy: 0.9839 - val_loss: 0.1456 - val_accuracy: 0.9756\n",
            "Epoch 41/50\n",
            "500/500 [==============================] - 2s 4ms/step - loss: 0.0531 - accuracy: 0.9863 - val_loss: 0.0934 - val_accuracy: 0.9864\n",
            "Epoch 42/50\n",
            "500/500 [==============================] - 2s 4ms/step - loss: 0.0664 - accuracy: 0.9867 - val_loss: 0.1641 - val_accuracy: 0.9722\n",
            "Epoch 43/50\n",
            "500/500 [==============================] - 2s 4ms/step - loss: 0.1065 - accuracy: 0.9782 - val_loss: 0.2530 - val_accuracy: 0.9609\n",
            "Epoch 44/50\n",
            "500/500 [==============================] - 2s 4ms/step - loss: 0.0863 - accuracy: 0.9812 - val_loss: 0.1112 - val_accuracy: 0.9840\n",
            "Epoch 45/50\n",
            "500/500 [==============================] - 2s 4ms/step - loss: 0.0426 - accuracy: 0.9896 - val_loss: 0.1115 - val_accuracy: 0.9845\n",
            "Epoch 46/50\n",
            "500/500 [==============================] - 2s 4ms/step - loss: 0.0501 - accuracy: 0.9898 - val_loss: 0.1530 - val_accuracy: 0.9770\n",
            "Epoch 47/50\n",
            "500/500 [==============================] - 2s 4ms/step - loss: 0.0558 - accuracy: 0.9881 - val_loss: 0.1316 - val_accuracy: 0.9830\n",
            "Epoch 48/50\n",
            "500/500 [==============================] - 2s 4ms/step - loss: 0.0774 - accuracy: 0.9852 - val_loss: 0.1697 - val_accuracy: 0.9692\n",
            "Epoch 49/50\n",
            "500/500 [==============================] - 2s 4ms/step - loss: 0.0407 - accuracy: 0.9905 - val_loss: 0.1020 - val_accuracy: 0.9854\n",
            "Epoch 50/50\n",
            "500/500 [==============================] - 2s 4ms/step - loss: 0.1074 - accuracy: 0.9802 - val_loss: 0.1838 - val_accuracy: 0.9743\n"
          ],
          "name": "stdout"
        }
      ]
    },
    {
      "cell_type": "code",
      "metadata": {
        "id": "jZpuRvyABXN0",
        "outputId": "d84d31d8-7924-49d9-8218-2572d31714bd",
        "colab": {
          "base_uri": "https://localhost:8080/",
          "height": 298
        }
      },
      "source": [
        "plt.plot(history.history['accuracy'])\n",
        "plt.plot(history.history['val_accuracy'])\n",
        "plt.legend(loc = 'best')"
      ],
      "execution_count": null,
      "outputs": [
        {
          "output_type": "stream",
          "text": [
            "No handles with labels found to put in legend.\n"
          ],
          "name": "stderr"
        },
        {
          "output_type": "execute_result",
          "data": {
            "text/plain": [
              "<matplotlib.legend.Legend at 0x7fede2398dd8>"
            ]
          },
          "metadata": {
            "tags": []
          },
          "execution_count": 49
        },
        {
          "output_type": "display_data",
          "data": {
            "image/png": "[encoded data removed]",
            "text/plain": [
              "<Figure size 432x288 with 1 Axes>"
            ]
          },
          "metadata": {
            "tags": [],
            "needs_background": "light"
          }
        }
      ]
    },
    {
      "cell_type": "code",
      "metadata": {
        "id": "Qc06rkl5BXw6"
      },
      "source": [
        "y_pred = nn.predict_classes(X_test)\n",
        "sklearn.metrics.confusion_matrix(y_pred, y_test)"
      ],
      "execution_count": null,
      "outputs": []
    },
    {
      "cell_type": "code",
      "metadata": {
        "id": "qrjWjZtCCqWb",
        "outputId": "e32affac-a12b-47ff-8b65-576151e0dd3a",
        "colab": {
          "base_uri": "https://localhost:8080/",
          "height": 50
        }
      },
      "source": [
        "print('Training Accuracy at 49 epochs: ', history.history['accuracy'][-2] * 100, '%')\n",
        "print('Testing Accuracy at 49 epochs: ', history.history['val_accuracy'][-2] * 100, '%')"
      ],
      "execution_count": null,
      "outputs": [
        {
          "output_type": "stream",
          "text": [
            "Training Accuracy at 49 epochs:  99.04904961585999 %\n",
            "Testing Accuracy at 49 epochs:  98.53603839874268 %\n"
          ],
          "name": "stdout"
        }
      ]
    },
    {
      "cell_type": "markdown",
      "metadata": {
        "id": "mHTrY4r8LsXO"
      },
      "source": [
        "#### Final Testing Accuracy: 98.53 %"
      ]
    }
  ]
}