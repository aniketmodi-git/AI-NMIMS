{
  "nbformat": 4,
  "nbformat_minor": 0,
  "metadata": {
    "colab": {
      "name": "CW_J064_080820.ipynb",
      "provenance": [],
      "authorship_tag": "ABX9TyPxjN4rUz0uSAmLtUXgtLc4",
      "include_colab_link": true
    },
    "kernelspec": {
      "name": "python3",
      "display_name": "Python 3"
    }
  },
  "cells": [
    {
      "cell_type": "markdown",
      "metadata": {
        "id": "view-in-github",
        "colab_type": "text"
      },
      "source": [
        "<a href=\"https://colab.research.google.com/github/aniketmodi-work/AI-NMIMS/blob/master/CW_J064_080820.ipynb\" target=\"_parent\"><img src=\"https://colab.research.google.com/assets/colab-badge.svg\" alt=\"Open In Colab\"/></a>"
      ]
    },
    {
      "cell_type": "markdown",
      "metadata": {
        "id": "qPnuWdsxBgBN",
        "colab_type": "text"
      },
      "source": [
        "##AI Lecture 3"
      ]
    },
    {
      "cell_type": "markdown",
      "metadata": {
        "id": "MuuAUPhkBjz9",
        "colab_type": "text"
      },
      "source": [
        "PTIME (Polynomial Time Solvable)\n",
        "\n",
        "PTIME - If n is the input size then, if complete computation can be done or expressed in a polynomial(algebraic expression with degree or highest power as a whole number).\n",
        "\n",
        "Time Complexity is O(n^K) where a polynomial of an^k+a1*n^k-1+... will be of order an^k\n",
        "\n",
        "Is negative feasible Negative n^-1/3 -> 1/n^1/3 n=27 n=216 1/3 , 1/6 1/3>1/6 Can time for computation decrease as inputs increase ?"
      ]
    },
    {
      "cell_type": "code",
      "metadata": {
        "id": "ziF2y2ffBfMT",
        "colab_type": "code",
        "colab": {}
      },
      "source": [
        "import timeit"
      ],
      "execution_count": 1,
      "outputs": []
    },
    {
      "cell_type": "code",
      "metadata": {
        "id": "gQCPQQJcBl3z",
        "colab_type": "code",
        "colab": {}
      },
      "source": [
        "#Using Loops \n",
        "def factorial(n):\n",
        "  factor=1\n",
        "  for x in range(n):\n",
        "    factor=factor *(x+1)\n",
        "  return factor"
      ],
      "execution_count": 2,
      "outputs": []
    },
    {
      "cell_type": "code",
      "metadata": {
        "id": "q7IA0h4WBpDp",
        "colab_type": "code",
        "colab": {
          "base_uri": "https://localhost:8080/",
          "height": 50
        },
        "outputId": "015d6e2c-efd5-4b40-8b93-11cf06fe898d"
      },
      "source": [
        "%timeit(factorial(5))"
      ],
      "execution_count": 3,
      "outputs": [
        {
          "output_type": "stream",
          "text": [
            "The slowest run took 5.35 times longer than the fastest. This could mean that an intermediate result is being cached.\n",
            "1000000 loops, best of 3: 510 ns per loop\n"
          ],
          "name": "stdout"
        }
      ]
    },
    {
      "cell_type": "code",
      "metadata": {
        "id": "4DnHLfhMBsML",
        "colab_type": "code",
        "colab": {
          "base_uri": "https://localhost:8080/",
          "height": 50
        },
        "outputId": "5bc3dd8b-651f-4b66-94f9-80dbb604bd4a"
      },
      "source": [
        "%timeit(factorial(10))"
      ],
      "execution_count": 4,
      "outputs": [
        {
          "output_type": "stream",
          "text": [
            "The slowest run took 4.22 times longer than the fastest. This could mean that an intermediate result is being cached.\n",
            "1000000 loops, best of 3: 798 ns per loop\n"
          ],
          "name": "stdout"
        }
      ]
    },
    {
      "cell_type": "code",
      "metadata": {
        "id": "upf0IHXxBw5_",
        "colab_type": "code",
        "colab": {
          "base_uri": "https://localhost:8080/",
          "height": 34
        },
        "outputId": "2ad1bcd5-c43b-4de2-c9ce-3d877d36ded6"
      },
      "source": [
        "%timeit(factorial(100))"
      ],
      "execution_count": 5,
      "outputs": [
        {
          "output_type": "stream",
          "text": [
            "100000 loops, best of 3: 8.49 µs per loop\n"
          ],
          "name": "stdout"
        }
      ]
    },
    {
      "cell_type": "code",
      "metadata": {
        "id": "wBSg06aFByS7",
        "colab_type": "code",
        "colab": {}
      },
      "source": [
        "#Or using Recursive function\n",
        "def factorials(n):\n",
        "  factor=1\n",
        "  if n==0: \n",
        "    return factor\n",
        "  else :\n",
        "    return n*factorials(n-1)"
      ],
      "execution_count": 6,
      "outputs": []
    },
    {
      "cell_type": "code",
      "metadata": {
        "id": "XZuo1VWYB0Jc",
        "colab_type": "code",
        "colab": {
          "base_uri": "https://localhost:8080/",
          "height": 34
        },
        "outputId": "df7745e4-c628-402d-c9c9-5617b67e6917"
      },
      "source": [
        "%timeit(factorials(5))"
      ],
      "execution_count": 7,
      "outputs": [
        {
          "output_type": "stream",
          "text": [
            "1000000 loops, best of 3: 709 ns per loop\n"
          ],
          "name": "stdout"
        }
      ]
    },
    {
      "cell_type": "code",
      "metadata": {
        "id": "qwpJkURwB18M",
        "colab_type": "code",
        "colab": {
          "base_uri": "https://localhost:8080/",
          "height": 34
        },
        "outputId": "3a42c33e-e0a3-489d-b07f-899732546115"
      },
      "source": [
        "%timeit(factorials(10))"
      ],
      "execution_count": 8,
      "outputs": [
        {
          "output_type": "stream",
          "text": [
            "1000000 loops, best of 3: 1.36 µs per loop\n"
          ],
          "name": "stdout"
        }
      ]
    },
    {
      "cell_type": "code",
      "metadata": {
        "id": "3zrUo89LB6fW",
        "colab_type": "code",
        "colab": {
          "base_uri": "https://localhost:8080/",
          "height": 34
        },
        "outputId": "d9d12e2e-d778-4346-f1f0-745677575c4a"
      },
      "source": [
        "%timeit(factorials(100))"
      ],
      "execution_count": 9,
      "outputs": [
        {
          "output_type": "stream",
          "text": [
            "100000 loops, best of 3: 15.7 µs per loop\n"
          ],
          "name": "stdout"
        }
      ]
    },
    {
      "cell_type": "markdown",
      "metadata": {
        "id": "V2VWkYjbB_tw",
        "colab_type": "text"
      },
      "source": [
        "As the n value gets increased the time to calulate factorial increases"
      ]
    },
    {
      "cell_type": "code",
      "metadata": {
        "id": "RpZiwBA6B8Lq",
        "colab_type": "code",
        "colab": {}
      },
      "source": [
        "def sum(a,b):\n",
        "  return (a+b)"
      ],
      "execution_count": 10,
      "outputs": []
    },
    {
      "cell_type": "code",
      "metadata": {
        "id": "ca92CjCWB_Hn",
        "colab_type": "code",
        "colab": {
          "base_uri": "https://localhost:8080/",
          "height": 50
        },
        "outputId": "762d365e-a848-4155-fab7-edae5145b2ae"
      },
      "source": [
        "%timeit(sum(5,10))"
      ],
      "execution_count": 11,
      "outputs": [
        {
          "output_type": "stream",
          "text": [
            "The slowest run took 18.95 times longer than the fastest. This could mean that an intermediate result is being cached.\n",
            "10000000 loops, best of 3: 87.4 ns per loop\n"
          ],
          "name": "stdout"
        }
      ]
    },
    {
      "cell_type": "code",
      "metadata": {
        "id": "5CCsJGXvCF4R",
        "colab_type": "code",
        "colab": {
          "base_uri": "https://localhost:8080/",
          "height": 50
        },
        "outputId": "e446fe81-8de3-4012-dc91-e92dc1859506"
      },
      "source": [
        "%timeit(sum(50,10))"
      ],
      "execution_count": 12,
      "outputs": [
        {
          "output_type": "stream",
          "text": [
            "The slowest run took 12.26 times longer than the fastest. This could mean that an intermediate result is being cached.\n",
            "10000000 loops, best of 3: 86.5 ns per loop\n"
          ],
          "name": "stdout"
        }
      ]
    },
    {
      "cell_type": "markdown",
      "metadata": {
        "id": "eN2uh4CpCLe8",
        "colab_type": "text"
      },
      "source": [
        "Here the time taken will be same as there is no loops/function going on repeatedly. It is a simple addition hence time is not increasing as rapidly as it was in above factorial question & time complexeity is also very less\n",
        "\n",
        "NP(Problem) - Solution is in non polynomial time\n",
        "\n",
        "P(Problem) - Max Solution time or Upper Bound is in Polynomial Time \n",
        "\n",
        "O(n^4) ->\n",
        "log n =  (n*logn)\n",
        "\n",
        "          log 50(base10) - 1.69 ()<n^1\n",
        "          log 500(base10) - 2.69 ()<n^1\n",
        "          log 5000(base10) - 3.69 ()<n^1\n",
        "          for non linear change in n , change is linear\n",
        "\n",
        "NP () - n!\n",
        "\n",
        "    5!   120 -> <5^3\n",
        "    50!  3.0414093e+64 microsecs -> days -> 3.5201497e+53 days\n",
        "    500! \n",
        "    5000!"
      ]
    },
    {
      "cell_type": "markdown",
      "metadata": {
        "id": "o7rQj5oOClzJ",
        "colab_type": "text"
      },
      "source": [
        "NP Complete - > All NP hard problems can be approximated to the problem then it is NP Complete.\n",
        "\n",
        "NP hard - > A problem is NP Hard if its solution is in NP, Cannot be verified in Polynomial Time\n",
        "\n",
        "AI Complete or AI Hard Problems"
      ]
    }
  ]
}