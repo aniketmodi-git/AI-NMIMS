{
  "nbformat": 4,
  "nbformat_minor": 0,
  "metadata": {
    "colab": {
      "name": "CW_J064_110720.ipynb",
      "provenance": [],
      "authorship_tag": "ABX9TyNI33rGVPMdUW5gYgNk0BLZ",
      "include_colab_link": true
    },
    "kernelspec": {
      "name": "python3",
      "display_name": "Python 3"
    }
  },
  "cells": [
    {
      "cell_type": "markdown",
      "metadata": {
        "id": "view-in-github",
        "colab_type": "text"
      },
      "source": [
        "<a href=\"https://colab.research.google.com/github/aniketmodi-work/AI-NMIMS/blob/master/CW/CW_J064_110720.ipynb\" target=\"_parent\"><img src=\"https://colab.research.google.com/assets/colab-badge.svg\" alt=\"Open In Colab\"/></a>"
      ]
    },
    {
      "cell_type": "markdown",
      "metadata": {
        "id": "IY7HmhN9Djws",
        "colab_type": "text"
      },
      "source": [
        "#AI Lecture 2"
      ]
    },
    {
      "cell_type": "markdown",
      "metadata": {
        "id": "fMtK1xkDBW9_",
        "colab_type": "text"
      },
      "source": [
        "###Local and Global Variables inside a function\n"
      ]
    },
    {
      "cell_type": "code",
      "metadata": {
        "id": "1g8M5NLE-C03",
        "colab_type": "code",
        "colab": {}
      },
      "source": [
        "a = 2\n",
        "b = 3\n",
        "c = 4"
      ],
      "execution_count": null,
      "outputs": []
    },
    {
      "cell_type": "code",
      "metadata": {
        "id": "xso-oGhq-OPQ",
        "colab_type": "code",
        "colab": {}
      },
      "source": [
        "def printer():\n",
        "    return a,b"
      ],
      "execution_count": null,
      "outputs": []
    },
    {
      "cell_type": "code",
      "metadata": {
        "id": "mShH-9DF-W-9",
        "colab_type": "code",
        "colab": {
          "base_uri": "https://localhost:8080/",
          "height": 34
        },
        "outputId": "f04725cc-4d3b-46d5-971a-c5e1add219ba"
      },
      "source": [
        "printer()"
      ],
      "execution_count": null,
      "outputs": [
        {
          "output_type": "execute_result",
          "data": {
            "text/plain": [
              "(2, 3)"
            ]
          },
          "metadata": {
            "tags": []
          },
          "execution_count": 3
        }
      ]
    },
    {
      "cell_type": "code",
      "metadata": {
        "id": "ra0Eh8iJ-Zj7",
        "colab_type": "code",
        "colab": {}
      },
      "source": [
        "def printer():\n",
        "    return a,c"
      ],
      "execution_count": null,
      "outputs": []
    },
    {
      "cell_type": "code",
      "metadata": {
        "id": "kTfOyKCs-bgi",
        "colab_type": "code",
        "colab": {
          "base_uri": "https://localhost:8080/",
          "height": 34
        },
        "outputId": "6167fe24-4230-4833-b814-ad857e950425"
      },
      "source": [
        "printer()"
      ],
      "execution_count": null,
      "outputs": [
        {
          "output_type": "execute_result",
          "data": {
            "text/plain": [
              "(2, 4)"
            ]
          },
          "metadata": {
            "tags": []
          },
          "execution_count": 5
        }
      ]
    },
    {
      "cell_type": "code",
      "metadata": {
        "id": "SjskIU1N-c0W",
        "colab_type": "code",
        "colab": {}
      },
      "source": [
        "def printer(a,b):\n",
        "    return a,b"
      ],
      "execution_count": null,
      "outputs": []
    },
    {
      "cell_type": "code",
      "metadata": {
        "id": "dlIWsnhx_IzE",
        "colab_type": "code",
        "colab": {
          "base_uri": "https://localhost:8080/",
          "height": 34
        },
        "outputId": "259d6a6e-3989-488a-b068-571a65732a20"
      },
      "source": [
        "printer(a,b)"
      ],
      "execution_count": null,
      "outputs": [
        {
          "output_type": "execute_result",
          "data": {
            "text/plain": [
              "(2, 3)"
            ]
          },
          "metadata": {
            "tags": []
          },
          "execution_count": 13
        }
      ]
    },
    {
      "cell_type": "code",
      "metadata": {
        "id": "KKbdNsuL_PU7",
        "colab_type": "code",
        "colab": {
          "base_uri": "https://localhost:8080/",
          "height": 34
        },
        "outputId": "a078a651-cb91-4640-a5e9-95fb0e304590"
      },
      "source": [
        "printer(a,c)"
      ],
      "execution_count": null,
      "outputs": [
        {
          "output_type": "execute_result",
          "data": {
            "text/plain": [
              "(2, 4)"
            ]
          },
          "metadata": {
            "tags": []
          },
          "execution_count": 14
        }
      ]
    },
    {
      "cell_type": "code",
      "metadata": {
        "id": "JMUBam8K_TSQ",
        "colab_type": "code",
        "colab": {}
      },
      "source": [
        "def printer(a,b):\n",
        "    return a,c"
      ],
      "execution_count": null,
      "outputs": []
    },
    {
      "cell_type": "code",
      "metadata": {
        "id": "QyCV7yQtAXcN",
        "colab_type": "code",
        "colab": {
          "base_uri": "https://localhost:8080/",
          "height": 34
        },
        "outputId": "6941e4d6-b06d-4356-ce80-14a3b8fcb704"
      },
      "source": [
        "printer(7,100)"
      ],
      "execution_count": null,
      "outputs": [
        {
          "output_type": "execute_result",
          "data": {
            "text/plain": [
              "(7, 4)"
            ]
          },
          "metadata": {
            "tags": []
          },
          "execution_count": 18
        }
      ]
    },
    {
      "cell_type": "markdown",
      "metadata": {
        "id": "oVp-7nt4_WGY",
        "colab_type": "text"
      },
      "source": [
        "* If arguments are not passed, all the variables in the functions (eg. a,b) are considered as global variables in Colab Python\n",
        "* If arguments are passed:\n",
        "\n",
        "    * whatever vairables (eg. a) in the functions that are passed as argument are considered local.\n",
        "    * while those who aren't passed as argument (eg. c) but are made to return are considered global in Colab Python."
      ]
    },
    {
      "cell_type": "markdown",
      "metadata": {
        "id": "Je4XGxyOBilh",
        "colab_type": "text"
      },
      "source": [
        "Global variables are the variables that have their values stored in **current** environment."
      ]
    },
    {
      "cell_type": "markdown",
      "metadata": {
        "id": "U6n0TzuDB0WZ",
        "colab_type": "text"
      },
      "source": [
        "###Typecasting in Python"
      ]
    },
    {
      "cell_type": "code",
      "metadata": {
        "id": "4QI-SVbJB4iS",
        "colab_type": "code",
        "colab": {
          "base_uri": "https://localhost:8080/",
          "height": 34
        },
        "outputId": "8361cfd5-a3db-47d7-d150-25a5a06f65d7"
      },
      "source": [
        "int('100') #from string to float"
      ],
      "execution_count": null,
      "outputs": [
        {
          "output_type": "execute_result",
          "data": {
            "text/plain": [
              "100"
            ]
          },
          "metadata": {
            "tags": []
          },
          "execution_count": 20
        }
      ]
    },
    {
      "cell_type": "code",
      "metadata": {
        "id": "tijmZEARCJcw",
        "colab_type": "code",
        "colab": {
          "base_uri": "https://localhost:8080/",
          "height": 34
        },
        "outputId": "11282e2d-4fa8-4652-ebbc-c10321c716bc"
      },
      "source": [
        "int('100', 10) #from string to int base 10"
      ],
      "execution_count": null,
      "outputs": [
        {
          "output_type": "execute_result",
          "data": {
            "text/plain": [
              "100"
            ]
          },
          "metadata": {
            "tags": []
          },
          "execution_count": 27
        }
      ]
    },
    {
      "cell_type": "code",
      "metadata": {
        "id": "Yu3yOQnFCQci",
        "colab_type": "code",
        "colab": {
          "base_uri": "https://localhost:8080/",
          "height": 34
        },
        "outputId": "68be5e33-cd50-4512-f031-ce6395c3a871"
      },
      "source": [
        "int('100', 2) #from string to int base 2"
      ],
      "execution_count": null,
      "outputs": [
        {
          "output_type": "execute_result",
          "data": {
            "text/plain": [
              "4"
            ]
          },
          "metadata": {
            "tags": []
          },
          "execution_count": 28
        }
      ]
    },
    {
      "cell_type": "code",
      "metadata": {
        "id": "PnBcqX8ICxcz",
        "colab_type": "code",
        "colab": {
          "base_uri": "https://localhost:8080/",
          "height": 35
        },
        "outputId": "04313207-1cdb-43f2-83a2-f661d673a7ae"
      },
      "source": [
        "str(int('100',2)) #from int to string"
      ],
      "execution_count": null,
      "outputs": [
        {
          "output_type": "execute_result",
          "data": {
            "application/vnd.google.colaboratory.intrinsic": {
              "type": "string"
            },
            "text/plain": [
              "'4'"
            ]
          },
          "metadata": {
            "tags": []
          },
          "execution_count": 31
        }
      ]
    },
    {
      "cell_type": "markdown",
      "metadata": {
        "id": "C-9AZmiSHdqH",
        "colab_type": "text"
      },
      "source": [
        "###Private vs Public variable"
      ]
    },
    {
      "cell_type": "code",
      "metadata": {
        "id": "eQQ4cXlmI6LJ",
        "colab_type": "code",
        "colab": {}
      },
      "source": [
        "def make_a(a, class_):\n",
        "    pass"
      ],
      "execution_count": null,
      "outputs": []
    },
    {
      "cell_type": "code",
      "metadata": {
        "id": "TZX6YtjtJAB2",
        "colab_type": "code",
        "colab": {}
      },
      "source": [
        "#class in python\n",
        "\n",
        "class human:\n",
        "    \"\"\" Members of a class \"\"\" \n",
        "    # attribute - variables - compulsory\n",
        "    # method/behaviour - function - compulsory"
      ],
      "execution_count": null,
      "outputs": []
    },
    {
      "cell_type": "markdown",
      "metadata": {
        "id": "vyW1-qj1LeD2",
        "colab_type": "text"
      },
      "source": [
        "Google:\n",
        "* Name Mangling in Python"
      ]
    },
    {
      "cell_type": "code",
      "metadata": {
        "id": "RiykHVxiN9Xe",
        "colab_type": "code",
        "colab": {}
      },
      "source": [
        "# Python program to demonstrate \n",
        "# name mangling \n",
        "\n",
        "\n",
        "class Student:\n",
        "\tdef __init__(self, name): \n",
        "\t\tself.__name = name\n",
        "\n",
        "\tdef displayName(self): \n",
        "\t\tprint(self.__name)\n",
        "\n",
        "  \n",
        "\n",
        "#self is reference of the name used to access functions inside a class"
      ],
      "execution_count": null,
      "outputs": []
    },
    {
      "cell_type": "code",
      "metadata": {
        "id": "nAxiczy7OtBI",
        "colab_type": "code",
        "colab": {
          "base_uri": "https://localhost:8080/",
          "height": 178
        },
        "outputId": "5f755891-7d64-4e16-cc16-59c82c89abc0"
      },
      "source": [
        "# Raises an error asit is unable to aceess variables outside class\n",
        "print(s1.__name) "
      ],
      "execution_count": null,
      "outputs": [
        {
          "output_type": "error",
          "ename": "AttributeError",
          "evalue": "ignored",
          "traceback": [
            "\u001b[0;31m---------------------------------------------------------------------------\u001b[0m",
            "\u001b[0;31mAttributeError\u001b[0m                            Traceback (most recent call last)",
            "\u001b[0;32m<ipython-input-58-cbaf182fd541>\u001b[0m in \u001b[0;36m<module>\u001b[0;34m()\u001b[0m\n\u001b[1;32m      1\u001b[0m \u001b[0;31m# Raises an error asit is unable to aceess variables outside class\u001b[0m\u001b[0;34m\u001b[0m\u001b[0;34m\u001b[0m\u001b[0;34m\u001b[0m\u001b[0m\n\u001b[0;32m----> 2\u001b[0;31m \u001b[0mprint\u001b[0m\u001b[0;34m(\u001b[0m\u001b[0ms1\u001b[0m\u001b[0;34m.\u001b[0m\u001b[0m__name\u001b[0m\u001b[0;34m)\u001b[0m\u001b[0;34m\u001b[0m\u001b[0;34m\u001b[0m\u001b[0m\n\u001b[0m",
            "\u001b[0;31mAttributeError\u001b[0m: 'Student' object has no attribute '__name'"
          ]
        }
      ]
    },
    {
      "cell_type": "code",
      "metadata": {
        "id": "_Xrv83kgSB6J",
        "colab_type": "code",
        "colab": {
          "base_uri": "https://localhost:8080/",
          "height": 487
        },
        "outputId": "17722534-85f8-47f9-b4e8-02eac92914ab"
      },
      "source": [
        "#List of all the attributes availale outside the class\n",
        "dir(s1)"
      ],
      "execution_count": null,
      "outputs": [
        {
          "output_type": "execute_result",
          "data": {
            "text/plain": [
              "['_Student__name',\n",
              " '__class__',\n",
              " '__delattr__',\n",
              " '__dict__',\n",
              " '__dir__',\n",
              " '__doc__',\n",
              " '__eq__',\n",
              " '__format__',\n",
              " '__ge__',\n",
              " '__getattribute__',\n",
              " '__gt__',\n",
              " '__hash__',\n",
              " '__init__',\n",
              " '__init_subclass__',\n",
              " '__le__',\n",
              " '__lt__',\n",
              " '__module__',\n",
              " '__ne__',\n",
              " '__new__',\n",
              " '__reduce__',\n",
              " '__reduce_ex__',\n",
              " '__repr__',\n",
              " '__setattr__',\n",
              " '__sizeof__',\n",
              " '__str__',\n",
              " '__subclasshook__',\n",
              " '__weakref__',\n",
              " 'displayName']"
            ]
          },
          "metadata": {
            "tags": []
          },
          "execution_count": 52
        }
      ]
    },
    {
      "cell_type": "code",
      "metadata": {
        "id": "WOQEyveSSFtA",
        "colab_type": "code",
        "colab": {
          "base_uri": "https://localhost:8080/",
          "height": 34
        },
        "outputId": "a89b9822-a50e-4f20-cbaa-472a2b3c43bd"
      },
      "source": [
        "print(s1._Student__name)"
      ],
      "execution_count": null,
      "outputs": [
        {
          "output_type": "stream",
          "text": [
            "Santhosh\n"
          ],
          "name": "stdout"
        }
      ]
    },
    {
      "cell_type": "markdown",
      "metadata": {
        "id": "AZcPLChNUw7B",
        "colab_type": "text"
      },
      "source": [
        "The above class variable is accessed by adding the _classname to it. The class variable is accessed from outside the class with the name _Student__name."
      ]
    },
    {
      "cell_type": "markdown",
      "metadata": {
        "id": "ZG0H-fU2VBoh",
        "colab_type": "text"
      },
      "source": [
        "Due to name mangling, there is limited support for a valid use-case for class-private members basically to avoid name clashes of names with names defined by subclasses. Any identifier of the form ____name__ (at least two leading underscores or at most one trailing underscore) is replaced with _Student__name, where Student is the current class name with leading underscore(s) stripped. As long as it occurs within the definition of the class, this mangling is done. This is helpful for letting subclasses override methods without breaking intraclass method calls."
      ]
    },
    {
      "cell_type": "markdown",
      "metadata": {
        "id": "RtmmBgomUykx",
        "colab_type": "text"
      },
      "source": [
        ""
      ]
    },
    {
      "cell_type": "markdown",
      "metadata": {
        "id": "jc3g04-qGl8H",
        "colab_type": "text"
      },
      "source": [
        "### Variable conventions acc to coding style convention pep8"
      ]
    },
    {
      "cell_type": "code",
      "metadata": {
        "id": "4o2cO4_GGmjb",
        "colab_type": "code",
        "colab": {}
      },
      "source": [
        "a = 3 #for normal use\n",
        "a_ = 4 #for initial use\n",
        "__a__ = 5\n",
        "_a = 6 #for internal use(private use)\n",
        "__a = 19"
      ],
      "execution_count": null,
      "outputs": []
    },
    {
      "cell_type": "code",
      "metadata": {
        "id": "qfz4rAWUGt3z",
        "colab_type": "code",
        "colab": {
          "base_uri": "https://localhost:8080/",
          "height": 67
        },
        "outputId": "04ca2c1b-3584-4b1f-9762-6622b7d855a9"
      },
      "source": [
        "print(a)\n",
        "print(_a)\n",
        "print(__a)"
      ],
      "execution_count": null,
      "outputs": [
        {
          "output_type": "stream",
          "text": [
            "6\n",
            "6\n",
            "6\n"
          ],
          "name": "stdout"
        }
      ]
    },
    {
      "cell_type": "code",
      "metadata": {
        "id": "T_ctaXFyGus1",
        "colab_type": "code",
        "colab": {
          "base_uri": "https://localhost:8080/",
          "height": 34
        },
        "outputId": "31361acd-de1e-4075-beca-16bcb5b1f331"
      },
      "source": [
        ""
      ],
      "execution_count": null,
      "outputs": [
        {
          "output_type": "execute_result",
          "data": {
            "text/plain": [
              "6"
            ]
          },
          "metadata": {
            "tags": []
          },
          "execution_count": 35
        }
      ]
    }
  ]
}