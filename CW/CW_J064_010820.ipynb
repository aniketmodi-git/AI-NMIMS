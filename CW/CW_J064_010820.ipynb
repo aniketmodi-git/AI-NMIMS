{
  "nbformat": 4,
  "nbformat_minor": 0,
  "metadata": {
    "colab": {
      "name": "CW_J064_010820.ipynb",
      "provenance": [],
      "authorship_tag": "ABX9TyPJMlg4bzhGSL/Abe4v+ipr",
      "include_colab_link": true
    },
    "kernelspec": {
      "name": "python3",
      "display_name": "Python 3"
    }
  },
  "cells": [
    {
      "cell_type": "markdown",
      "metadata": {
        "id": "view-in-github",
        "colab_type": "text"
      },
      "source": [
        "<a href=\"https://colab.research.google.com/github/aniketmodi-work/AI-NMIMS/blob/master/CW/CW_J064_010820.ipynb\" target=\"_parent\"><img src=\"https://colab.research.google.com/assets/colab-badge.svg\" alt=\"Open In Colab\"/></a>"
      ]
    },
    {
      "cell_type": "markdown",
      "metadata": {
        "id": "jW-sw8q7jJbh",
        "colab_type": "text"
      },
      "source": [
        "#AI Lecture 3"
      ]
    },
    {
      "cell_type": "markdown",
      "metadata": {
        "id": "meyh4jwPjYiQ",
        "colab_type": "text"
      },
      "source": [
        "**Factorial of a number using:**"
      ]
    },
    {
      "cell_type": "markdown",
      "metadata": {
        "id": "3uOspLAJjhjd",
        "colab_type": "text"
      },
      "source": [
        "1. Inbuilt function"
      ]
    },
    {
      "cell_type": "code",
      "metadata": {
        "id": "OsOjrMuUjhG-",
        "colab_type": "code",
        "colab": {
          "base_uri": "https://localhost:8080/",
          "height": 33
        },
        "outputId": "28854fe3-7248-4e1b-a2ee-cf8ba520f5e3"
      },
      "source": [
        "import math\n",
        "math.factorial(4)"
      ],
      "execution_count": 1,
      "outputs": [
        {
          "output_type": "execute_result",
          "data": {
            "text/plain": [
              "24"
            ]
          },
          "metadata": {
            "tags": []
          },
          "execution_count": 1
        }
      ]
    },
    {
      "cell_type": "markdown",
      "metadata": {
        "id": "vwfZl_fdjpek",
        "colab_type": "text"
      },
      "source": [
        "2. Loop\n"
      ]
    },
    {
      "cell_type": "code",
      "metadata": {
        "id": "oskRktZ-ivo6",
        "colab_type": "code",
        "colab": {}
      },
      "source": [
        "def factorial(n):\n",
        "  factor = 1\n",
        "  for x in range(n):\n",
        "    factor = factor *(x+1)\n",
        "  return factor"
      ],
      "execution_count": 2,
      "outputs": []
    },
    {
      "cell_type": "code",
      "metadata": {
        "id": "YrumeH9sjzz3",
        "colab_type": "code",
        "colab": {
          "base_uri": "https://localhost:8080/",
          "height": 33
        },
        "outputId": "9d0b9fe9-806a-45f9-dc40-7dc502b9ebf5"
      },
      "source": [
        "factorial(4)"
      ],
      "execution_count": 3,
      "outputs": [
        {
          "output_type": "execute_result",
          "data": {
            "text/plain": [
              "24"
            ]
          },
          "metadata": {
            "tags": []
          },
          "execution_count": 3
        }
      ]
    },
    {
      "cell_type": "markdown",
      "metadata": {
        "id": "krkiMH-5j4Xw",
        "colab_type": "text"
      },
      "source": [
        "3. Recursion"
      ]
    },
    {
      "cell_type": "code",
      "metadata": {
        "id": "BboHgKAJj17J",
        "colab_type": "code",
        "colab": {}
      },
      "source": [
        "def factorial_(n):\n",
        "  factor = 1\n",
        "  if n == 0: \n",
        "    return factor\n",
        "  else :\n",
        "    return n * factorial_(n-1)"
      ],
      "execution_count": 9,
      "outputs": []
    },
    {
      "cell_type": "code",
      "metadata": {
        "id": "d8UTllEWkE0v",
        "colab_type": "code",
        "colab": {
          "base_uri": "https://localhost:8080/",
          "height": 33
        },
        "outputId": "0313aa26-1c7b-404a-a285-87f47e0fbf14"
      },
      "source": [
        "factorial_(4)"
      ],
      "execution_count": 10,
      "outputs": [
        {
          "output_type": "execute_result",
          "data": {
            "text/plain": [
              "24"
            ]
          },
          "metadata": {
            "tags": []
          },
          "execution_count": 10
        }
      ]
    },
    {
      "cell_type": "markdown",
      "metadata": {
        "id": "92pWrIEMkdGE",
        "colab_type": "text"
      },
      "source": [
        "**Fibonacci series using:**"
      ]
    },
    {
      "cell_type": "markdown",
      "metadata": {
        "id": "6ibKjT_0klZX",
        "colab_type": "text"
      },
      "source": [
        "1. Loops\n"
      ]
    },
    {
      "cell_type": "code",
      "metadata": {
        "id": "asLKJRThkJNl",
        "colab_type": "code",
        "colab": {
          "base_uri": "https://localhost:8080/",
          "height": 33
        },
        "outputId": "d134d186-0561-4e13-a264-b1ea7c74c55e"
      },
      "source": [
        "def fibonacci(n):\n",
        "  a=0\n",
        "  b=1\n",
        "  if (n==0):\n",
        "    print(a)\n",
        "  elif (n==1):\n",
        "    print(a,b,end=\" \")\n",
        "  else:\n",
        "    #print(a)\n",
        "    #print(b)\n",
        "    for x in range(2,n):\n",
        "      s=a+b\n",
        "      a=b\n",
        "      b=s\n",
        "    print(s)\n",
        "\n",
        "fibonacci(8)\n",
        "#returns sum till 8th element"
      ],
      "execution_count": 14,
      "outputs": [
        {
          "output_type": "stream",
          "text": [
            "13\n"
          ],
          "name": "stdout"
        }
      ]
    },
    {
      "cell_type": "markdown",
      "metadata": {
        "id": "U55MwukLlOFF",
        "colab_type": "text"
      },
      "source": [
        "2. Recursion"
      ]
    },
    {
      "cell_type": "code",
      "metadata": {
        "id": "kn-xCxr-lFqH",
        "colab_type": "code",
        "colab": {
          "base_uri": "https://localhost:8080/",
          "height": 33
        },
        "outputId": "49d61b5f-612b-4175-eda9-69f87ad1789e"
      },
      "source": [
        "def fibonacci_(n):\n",
        "  if n==0 or n==1:\n",
        "    return n\n",
        "  else:\n",
        "    return fibonacci_(n-1) + fibonacci_(n-2)\n",
        "\n",
        "fibonacci_(7)\n",
        "#returns sum till the number 8"
      ],
      "execution_count": 18,
      "outputs": [
        {
          "output_type": "execute_result",
          "data": {
            "text/plain": [
              "13"
            ]
          },
          "metadata": {
            "tags": []
          },
          "execution_count": 18
        }
      ]
    },
    {
      "cell_type": "markdown",
      "metadata": {
        "id": "3XKQqRSEmSYK",
        "colab_type": "text"
      },
      "source": [
        "**Tractable-PTIME (Polynomial Time Solvable)**\n",
        ": Polynomial-Expression where each term is n^k where k can be any whole number.\n",
        "\n",
        "Degree of polynomial: Highest power of variable within the expression.\n",
        "\n",
        "Polynomial Time: Runtime of the code or solution should be a polynomial of degree k where k is a constant & sinceit is time n cannot be negative\n",
        "\n",
        "n: Input space/Dimension\n",
        "\n",
        "Eg: O(n^4): (3n^4)+(2n^2)+1\n",
        "\n",
        "Degree here: 4\n",
        "\n",
        "O(n!): n(n-1)(n-2).....*n\n",
        "\n",
        "Degree here: Non-Polynomial Time(NP)\n",
        "\n",
        "MEMOISATION~Memorandum\n",
        "\n",
        "Storing Intermediate values,through variouss ways"
      ]
    }
  ]
}