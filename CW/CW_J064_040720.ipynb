{
  "nbformat": 4,
  "nbformat_minor": 0,
  "metadata": {
    "colab": {
      "name": "HW_J064_040720.ipynb",
      "provenance": [],
      "authorship_tag": "ABX9TyNNel2PLZUlaFfyh3ScmS7z",
      "include_colab_link": true
    },
    "kernelspec": {
      "name": "python3",
      "display_name": "Python 3"
    }
  },
  "cells": [
    {
      "cell_type": "markdown",
      "metadata": {
        "id": "view-in-github",
        "colab_type": "text"
      },
      "source": [
        "<a href=\"https://colab.research.google.com/github/aniketmodi-work/AI-NMIMS/blob/master/CW/CW_J064_040720.ipynb\" target=\"_parent\"><img src=\"https://colab.research.google.com/assets/colab-badge.svg\" alt=\"Open In Colab\"/></a>"
      ]
    },
    {
      "cell_type": "markdown",
      "metadata": {
        "id": "8AUcmcyBMuYH",
        "colab_type": "text"
      },
      "source": [
        "# AI LECTURE 1 - ARRAY TYPES 1"
      ]
    },
    {
      "cell_type": "code",
      "metadata": {
        "id": "KjmM_kAcMz6U",
        "colab_type": "code",
        "colab": {
          "base_uri": "https://localhost:8080/",
          "height": 34
        },
        "outputId": "216d9c87-0179-4395-aaee-37d7745550b0"
      },
      "source": [
        "alist = [1,2,3,4,'hey']\n",
        "print(type(alist), alist)"
      ],
      "execution_count": 2,
      "outputs": [
        {
          "output_type": "stream",
          "text": [
            "<class 'list'> [1, 2, 3, 4, 'hey']\n"
          ],
          "name": "stdout"
        }
      ]
    },
    {
      "cell_type": "code",
      "metadata": {
        "id": "UlWttEdoNKcY",
        "colab_type": "code",
        "colab": {
          "base_uri": "https://localhost:8080/",
          "height": 34
        },
        "outputId": "4f221b7f-30a8-46c7-d75d-90fb63e24b92"
      },
      "source": [
        "atuple = (1,2,3,4,'hey')\n",
        "print(type(atuple), atuple)"
      ],
      "execution_count": 3,
      "outputs": [
        {
          "output_type": "stream",
          "text": [
            "<class 'tuple'> (1, 2, 3, 4, 'hey')\n"
          ],
          "name": "stdout"
        }
      ]
    },
    {
      "cell_type": "code",
      "metadata": {
        "id": "9E2ZIVC4NL-_",
        "colab_type": "code",
        "colab": {
          "base_uri": "https://localhost:8080/",
          "height": 34
        },
        "outputId": "7672d2bf-ca85-4dbd-a054-7386de4f1582"
      },
      "source": [
        "aset = {1,2,3,4,'hey'}\n",
        "print(type(aset), aset)"
      ],
      "execution_count": 4,
      "outputs": [
        {
          "output_type": "stream",
          "text": [
            "<class 'set'> {'hey', 1, 2, 3, 4}\n"
          ],
          "name": "stdout"
        }
      ]
    },
    {
      "cell_type": "code",
      "metadata": {
        "id": "wK1F1KfPNOBV",
        "colab_type": "code",
        "colab": {
          "base_uri": "https://localhost:8080/",
          "height": 67
        },
        "outputId": "4abab8ab-e7e5-4eec-f5c6-0ff3d9f7ba1a"
      },
      "source": [
        "adict = {'list': alist, 'tuple':atuple, 'set':aset }\n",
        "adict"
      ],
      "execution_count": 5,
      "outputs": [
        {
          "output_type": "execute_result",
          "data": {
            "text/plain": [
              "{'list': [1, 2, 3, 4, 'hey'],\n",
              " 'set': {1, 2, 3, 4, 'hey'},\n",
              " 'tuple': (1, 2, 3, 4, 'hey')}"
            ]
          },
          "metadata": {
            "tags": []
          },
          "execution_count": 5
        }
      ]
    },
    {
      "cell_type": "code",
      "metadata": {
        "id": "EPBDhf1PNPsZ",
        "colab_type": "code",
        "colab": {
          "base_uri": "https://localhost:8080/",
          "height": 195
        },
        "outputId": "95f7ef3e-c11c-41ff-c9ea-e923c651cf58"
      },
      "source": [
        "alist[1]\n",
        "aset[1]\n",
        "atuple[1]"
      ],
      "execution_count": 6,
      "outputs": [
        {
          "output_type": "error",
          "ename": "TypeError",
          "evalue": "ignored",
          "traceback": [
            "\u001b[0;31m---------------------------------------------------------------------------\u001b[0m",
            "\u001b[0;31mTypeError\u001b[0m                                 Traceback (most recent call last)",
            "\u001b[0;32m<ipython-input-6-7e475d61a2a3>\u001b[0m in \u001b[0;36m<module>\u001b[0;34m()\u001b[0m\n\u001b[1;32m      1\u001b[0m \u001b[0malist\u001b[0m\u001b[0;34m[\u001b[0m\u001b[0;36m1\u001b[0m\u001b[0;34m]\u001b[0m\u001b[0;34m\u001b[0m\u001b[0;34m\u001b[0m\u001b[0m\n\u001b[0;32m----> 2\u001b[0;31m \u001b[0maset\u001b[0m\u001b[0;34m[\u001b[0m\u001b[0;36m1\u001b[0m\u001b[0;34m]\u001b[0m\u001b[0;34m\u001b[0m\u001b[0;34m\u001b[0m\u001b[0m\n\u001b[0m\u001b[1;32m      3\u001b[0m \u001b[0matuple\u001b[0m\u001b[0;34m[\u001b[0m\u001b[0;36m1\u001b[0m\u001b[0;34m]\u001b[0m\u001b[0;34m\u001b[0m\u001b[0;34m\u001b[0m\u001b[0m\n",
            "\u001b[0;31mTypeError\u001b[0m: 'set' object does not support indexing"
          ]
        }
      ]
    },
    {
      "cell_type": "code",
      "metadata": {
        "id": "yDvhy7_gNRjv",
        "colab_type": "code",
        "colab": {}
      },
      "source": [
        "alist = [4,5,6,7]\n",
        "aset = {4,5,6,7}\n",
        "atuple= (4,5,6,7)"
      ],
      "execution_count": null,
      "outputs": []
    },
    {
      "cell_type": "code",
      "metadata": {
        "id": "l-rPsinnNlbu",
        "colab_type": "code",
        "colab": {}
      },
      "source": [
        "alist[1] = 'Hey'\n",
        "aset[1] = 'Hey'\n",
        "atuple[1] = 'Hey'"
      ],
      "execution_count": null,
      "outputs": []
    },
    {
      "cell_type": "markdown",
      "metadata": {
        "id": "-xTu68YcP95d",
        "colab_type": "text"
      },
      "source": [
        "'set' object does not support item assignment\n",
        "because it only shows unique values and you dont know the exact index it belongs to. So indexing doesn't make sense\n"
      ]
    },
    {
      "cell_type": "code",
      "metadata": {
        "id": "MmsyBxYiNp3X",
        "colab_type": "code",
        "colab": {
          "base_uri": "https://localhost:8080/",
          "height": 34
        },
        "outputId": "13fada25-f48d-4eda-fd23-dbe883432365"
      },
      "source": [
        "print(alist, aset, atuple)"
      ],
      "execution_count": 7,
      "outputs": [
        {
          "output_type": "stream",
          "text": [
            "[1, 2, 3, 4, 'hey'] {'hey', 1, 2, 3, 4} (1, 2, 3, 4, 'hey')\n"
          ],
          "name": "stdout"
        }
      ]
    },
    {
      "cell_type": "markdown",
      "metadata": {
        "id": "SHyZDDViOsXh",
        "colab_type": "text"
      },
      "source": [
        "Irrespective of an error in some line, all the lines above wihtout any errors will have their changes made.\n",
        "\n",
        "The next lines after the error lines won't be executed.\n",
        "\n",
        "So make different cells as it is atomic level of code in a notebook.\n"
      ]
    },
    {
      "cell_type": "code",
      "metadata": {
        "id": "tgcznRN8Nr1g",
        "colab_type": "code",
        "colab": {
          "base_uri": "https://localhost:8080/",
          "height": 34
        },
        "outputId": "939f6e40-a705-467f-e8b3-f5e7da077d3c"
      },
      "source": [
        "alist = [1,1,1,1]\n",
        "alist"
      ],
      "execution_count": 8,
      "outputs": [
        {
          "output_type": "execute_result",
          "data": {
            "text/plain": [
              "[1, 1, 1, 1]"
            ]
          },
          "metadata": {
            "tags": []
          },
          "execution_count": 8
        }
      ]
    },
    {
      "cell_type": "code",
      "metadata": {
        "id": "cYRpeNVUPbp7",
        "colab_type": "code",
        "colab": {
          "base_uri": "https://localhost:8080/",
          "height": 50
        },
        "outputId": "428dcc42-7cb2-42eb-f382-68527dc129e9"
      },
      "source": [
        "aset = {1,1,1,1}\n",
        "anewset = {1,2,1,2,3}\n",
        "print(aset,'\\n', anewset, )"
      ],
      "execution_count": 9,
      "outputs": [
        {
          "output_type": "stream",
          "text": [
            "{1} \n",
            " {1, 2, 3}\n"
          ],
          "name": "stdout"
        }
      ]
    },
    {
      "cell_type": "markdown",
      "metadata": {
        "id": "BEwQsEhERm0x",
        "colab_type": "text"
      },
      "source": [
        "Functions for a set:\n"
      ]
    },
    {
      "cell_type": "code",
      "metadata": {
        "id": "qUz-PIwUPhpp",
        "colab_type": "code",
        "colab": {
          "base_uri": "https://localhost:8080/",
          "height": 34
        },
        "outputId": "976a800d-c31d-4f65-e4ca-a0061eebad3d"
      },
      "source": [
        "aset = {1, 2, 2, 3, 3, 3}\n",
        "aset"
      ],
      "execution_count": 10,
      "outputs": [
        {
          "output_type": "execute_result",
          "data": {
            "text/plain": [
              "{1, 2, 3}"
            ]
          },
          "metadata": {
            "tags": []
          },
          "execution_count": 10
        }
      ]
    },
    {
      "cell_type": "code",
      "metadata": {
        "id": "CyeJC5WFR5BH",
        "colab_type": "code",
        "colab": {
          "base_uri": "https://localhost:8080/",
          "height": 34
        },
        "outputId": "ded257bc-f432-46ff-b011-acb7c6e7eddb"
      },
      "source": [
        "aset.pop()\n",
        "aset"
      ],
      "execution_count": 11,
      "outputs": [
        {
          "output_type": "execute_result",
          "data": {
            "text/plain": [
              "{2, 3}"
            ]
          },
          "metadata": {
            "tags": []
          },
          "execution_count": 11
        }
      ]
    },
    {
      "cell_type": "code",
      "metadata": {
        "id": "FlPLnPGJR8aJ",
        "colab_type": "code",
        "colab": {
          "base_uri": "https://localhost:8080/",
          "height": 34
        },
        "outputId": "58109e7c-7f0f-43c3-a807-8314a61c3ecd"
      },
      "source": [
        "aset.add(4)\n",
        "aset"
      ],
      "execution_count": 12,
      "outputs": [
        {
          "output_type": "execute_result",
          "data": {
            "text/plain": [
              "{2, 3, 4}"
            ]
          },
          "metadata": {
            "tags": []
          },
          "execution_count": 12
        }
      ]
    },
    {
      "cell_type": "code",
      "metadata": {
        "id": "KZ5yzmGvTVFY",
        "colab_type": "code",
        "colab": {}
      },
      "source": [
        "end = \"\\n\""
      ],
      "execution_count": 13,
      "outputs": []
    },
    {
      "cell_type": "code",
      "metadata": {
        "id": "BxiWCGNaTeJT",
        "colab_type": "code",
        "colab": {
          "base_uri": "https://localhost:8080/",
          "height": 50
        },
        "outputId": "f1c4525d-ad87-4ac5-d89e-939520d21e8e"
      },
      "source": [
        "abigset = {1,2,2,3,3,3,4,5,6,7,8,9}\n",
        "arandomset = {3,5,1,2,8,9,7,6}\n",
        "print(abigset, end, arandomset)"
      ],
      "execution_count": 14,
      "outputs": [
        {
          "output_type": "stream",
          "text": [
            "{1, 2, 3, 4, 5, 6, 7, 8, 9} \n",
            " {1, 2, 3, 5, 6, 7, 8, 9}\n"
          ],
          "name": "stdout"
        }
      ]
    },
    {
      "cell_type": "markdown",
      "metadata": {
        "id": "o_bh608YUBxZ",
        "colab_type": "text"
      },
      "source": [
        "Sets are always ordered."
      ]
    },
    {
      "cell_type": "code",
      "metadata": {
        "id": "6E1k8F3TSKli",
        "colab_type": "code",
        "colab": {
          "base_uri": "https://localhost:8080/",
          "height": 50
        },
        "outputId": "49c61d04-618e-49aa-8a44-2e7e48502c2a"
      },
      "source": [
        "asetpop = abigset.pop()\n",
        "print(abigset, end , asetpop)"
      ],
      "execution_count": 15,
      "outputs": [
        {
          "output_type": "stream",
          "text": [
            "{2, 3, 4, 5, 6, 7, 8, 9} \n",
            " 1\n"
          ],
          "name": "stdout"
        }
      ]
    },
    {
      "cell_type": "code",
      "metadata": {
        "id": "e2OJYIEIS8wX",
        "colab_type": "code",
        "colab": {
          "base_uri": "https://localhost:8080/",
          "height": 50
        },
        "outputId": "69db5efc-687d-44bd-d339-ece6a3496406"
      },
      "source": [
        "asetpop = abigset.pop()\n",
        "print(abigset, end , asetpop)"
      ],
      "execution_count": 16,
      "outputs": [
        {
          "output_type": "stream",
          "text": [
            "{3, 4, 5, 6, 7, 8, 9} \n",
            " 2\n"
          ],
          "name": "stdout"
        }
      ]
    },
    {
      "cell_type": "code",
      "metadata": {
        "id": "6WZV-Cz-Ud5Z",
        "colab_type": "code",
        "colab": {
          "base_uri": "https://localhost:8080/",
          "height": 50
        },
        "outputId": "374b1c96-97f2-438f-e8c4-8a445ba3d34c"
      },
      "source": [
        "asetpop = abigset.pop()\n",
        "print(abigset, end , asetpop)"
      ],
      "execution_count": 17,
      "outputs": [
        {
          "output_type": "stream",
          "text": [
            "{4, 5, 6, 7, 8, 9} \n",
            " 3\n"
          ],
          "name": "stdout"
        }
      ]
    },
    {
      "cell_type": "code",
      "metadata": {
        "id": "b3AX6wcsUewL",
        "colab_type": "code",
        "colab": {
          "base_uri": "https://localhost:8080/",
          "height": 50
        },
        "outputId": "2efa2191-ff82-47fb-8fe2-eb0deac204ad"
      },
      "source": [
        "asetpop = abigset.pop()\n",
        "print(abigset, end , asetpop)"
      ],
      "execution_count": 18,
      "outputs": [
        {
          "output_type": "stream",
          "text": [
            "{5, 6, 7, 8, 9} \n",
            " 4\n"
          ],
          "name": "stdout"
        }
      ]
    },
    {
      "cell_type": "code",
      "metadata": {
        "id": "01InqGfQUfcp",
        "colab_type": "code",
        "colab": {
          "base_uri": "https://localhost:8080/",
          "height": 50
        },
        "outputId": "7b8b5b13-aca5-4a4e-d18a-d66629d77184"
      },
      "source": [
        "asetpop = abigset.pop()\n",
        "print(abigset, end , asetpop)"
      ],
      "execution_count": 19,
      "outputs": [
        {
          "output_type": "stream",
          "text": [
            "{6, 7, 8, 9} \n",
            " 5\n"
          ],
          "name": "stdout"
        }
      ]
    },
    {
      "cell_type": "code",
      "metadata": {
        "id": "3tZYokWNUgES",
        "colab_type": "code",
        "colab": {
          "base_uri": "https://localhost:8080/",
          "height": 50
        },
        "outputId": "c539483d-4519-4205-9728-a798d1e9c762"
      },
      "source": [
        "asetpop = abigset.pop()\n",
        "print(abigset, end , asetpop)"
      ],
      "execution_count": 20,
      "outputs": [
        {
          "output_type": "stream",
          "text": [
            "{7, 8, 9} \n",
            " 6\n"
          ],
          "name": "stdout"
        }
      ]
    },
    {
      "cell_type": "code",
      "metadata": {
        "id": "Q6Kq99CdUg8n",
        "colab_type": "code",
        "colab": {
          "base_uri": "https://localhost:8080/",
          "height": 50
        },
        "outputId": "cad7585f-fcc4-4c6d-d203-125f134ad59b"
      },
      "source": [
        "asetpop = abigset.pop()\n",
        "print(abigset, end , asetpop)"
      ],
      "execution_count": 21,
      "outputs": [
        {
          "output_type": "stream",
          "text": [
            "{8, 9} \n",
            " 7\n"
          ],
          "name": "stdout"
        }
      ]
    },
    {
      "cell_type": "code",
      "metadata": {
        "id": "CFB57bQWUz0b",
        "colab_type": "code",
        "colab": {
          "base_uri": "https://localhost:8080/",
          "height": 50
        },
        "outputId": "fba84bd2-0d0f-4631-b4fa-15f122c474f1"
      },
      "source": [
        "asetpop = abigset.pop()\n",
        "print(abigset, end , asetpop)"
      ],
      "execution_count": 22,
      "outputs": [
        {
          "output_type": "stream",
          "text": [
            "{9} \n",
            " 8\n"
          ],
          "name": "stdout"
        }
      ]
    },
    {
      "cell_type": "code",
      "metadata": {
        "id": "lPWS05SLU03Z",
        "colab_type": "code",
        "colab": {}
      },
      "source": [
        "arandomset = {3,5,1,2,8,9,7,6, -1, 0, -3}"
      ],
      "execution_count": 23,
      "outputs": []
    },
    {
      "cell_type": "code",
      "metadata": {
        "id": "ItAGfF4ZVCBZ",
        "colab_type": "code",
        "colab": {
          "base_uri": "https://localhost:8080/",
          "height": 34
        },
        "outputId": "e7b5b2d8-e8a0-4053-b8fc-4b5098589213"
      },
      "source": [
        "arandomset.pop()"
      ],
      "execution_count": 24,
      "outputs": [
        {
          "output_type": "execute_result",
          "data": {
            "text/plain": [
              "0"
            ]
          },
          "metadata": {
            "tags": []
          },
          "execution_count": 24
        }
      ]
    },
    {
      "cell_type": "code",
      "metadata": {
        "id": "XzU0JtBHVEzv",
        "colab_type": "code",
        "colab": {
          "base_uri": "https://localhost:8080/",
          "height": 34
        },
        "outputId": "c57f5a55-df81-4040-a517-4e67c5fb5ec8"
      },
      "source": [
        "arandomset.pop()"
      ],
      "execution_count": 25,
      "outputs": [
        {
          "output_type": "execute_result",
          "data": {
            "text/plain": [
              "1"
            ]
          },
          "metadata": {
            "tags": []
          },
          "execution_count": 25
        }
      ]
    },
    {
      "cell_type": "code",
      "metadata": {
        "id": "ZV7FC52NVHIN",
        "colab_type": "code",
        "colab": {
          "base_uri": "https://localhost:8080/",
          "height": 34
        },
        "outputId": "dff68114-212b-4ba1-da69-5939c28b7779"
      },
      "source": [
        "arandomset.pop()"
      ],
      "execution_count": 26,
      "outputs": [
        {
          "output_type": "execute_result",
          "data": {
            "text/plain": [
              "2"
            ]
          },
          "metadata": {
            "tags": []
          },
          "execution_count": 26
        }
      ]
    },
    {
      "cell_type": "code",
      "metadata": {
        "id": "sFOjN4V3VIL0",
        "colab_type": "code",
        "colab": {
          "base_uri": "https://localhost:8080/",
          "height": 34
        },
        "outputId": "ef49e81a-b664-4f4e-d0ac-fd508b53e057"
      },
      "source": [
        "arandomset.pop()"
      ],
      "execution_count": 27,
      "outputs": [
        {
          "output_type": "execute_result",
          "data": {
            "text/plain": [
              "3"
            ]
          },
          "metadata": {
            "tags": []
          },
          "execution_count": 27
        }
      ]
    },
    {
      "cell_type": "code",
      "metadata": {
        "id": "tKGYP_rKVI-x",
        "colab_type": "code",
        "colab": {
          "base_uri": "https://localhost:8080/",
          "height": 34
        },
        "outputId": "63ba70b0-923c-4eca-b73e-48eb84dd0210"
      },
      "source": [
        "print(arandomset)"
      ],
      "execution_count": 28,
      "outputs": [
        {
          "output_type": "stream",
          "text": [
            "{5, 6, 7, 8, 9, -3, -1}\n"
          ],
          "name": "stdout"
        }
      ]
    },
    {
      "cell_type": "code",
      "metadata": {
        "id": "i4v7R8tnVM7k",
        "colab_type": "code",
        "colab": {
          "base_uri": "https://localhost:8080/",
          "height": 34
        },
        "outputId": "f74e7586-c88a-491f-ddd3-69e73ac9d6fd"
      },
      "source": [
        "arandomset.pop()"
      ],
      "execution_count": 29,
      "outputs": [
        {
          "output_type": "execute_result",
          "data": {
            "text/plain": [
              "5"
            ]
          },
          "metadata": {
            "tags": []
          },
          "execution_count": 29
        }
      ]
    },
    {
      "cell_type": "markdown",
      "metadata": {
        "id": "pMNnLi3bVcZl",
        "colab_type": "text"
      },
      "source": [
        "Even if the code shows it popping out first elements, sets are always randomly popped. It maybe because of colab. "
      ]
    },
    {
      "cell_type": "code",
      "metadata": {
        "id": "6LBnGk7aWZSR",
        "colab_type": "code",
        "colab": {
          "base_uri": "https://localhost:8080/",
          "height": 34
        },
        "outputId": "f53d6bc5-05d9-4eb8-e6a9-a1837f975d0d"
      },
      "source": [
        "arandomset"
      ],
      "execution_count": 30,
      "outputs": [
        {
          "output_type": "execute_result",
          "data": {
            "text/plain": [
              "{-3, -1, 6, 7, 8, 9}"
            ]
          },
          "metadata": {
            "tags": []
          },
          "execution_count": 30
        }
      ]
    },
    {
      "cell_type": "code",
      "metadata": {
        "id": "zbB2S3mZWbL-",
        "colab_type": "code",
        "colab": {}
      },
      "source": [
        "arandomset.add(-2)"
      ],
      "execution_count": 31,
      "outputs": []
    },
    {
      "cell_type": "code",
      "metadata": {
        "id": "kaXv0VHRXh7I",
        "colab_type": "code",
        "colab": {
          "base_uri": "https://localhost:8080/",
          "height": 34
        },
        "outputId": "b99a4a68-d47b-4820-cbdc-82e4b399040e"
      },
      "source": [
        "arandomset"
      ],
      "execution_count": 32,
      "outputs": [
        {
          "output_type": "execute_result",
          "data": {
            "text/plain": [
              "{-3, -2, -1, 6, 7, 8, 9}"
            ]
          },
          "metadata": {
            "tags": []
          },
          "execution_count": 32
        }
      ]
    },
    {
      "cell_type": "code",
      "metadata": {
        "id": "iL9U3d4kXjnJ",
        "colab_type": "code",
        "colab": {
          "base_uri": "https://localhost:8080/",
          "height": 34
        },
        "outputId": "1f630da7-05ce-4a26-b807-392e90fa2d8e"
      },
      "source": [
        "arandomset"
      ],
      "execution_count": 33,
      "outputs": [
        {
          "output_type": "execute_result",
          "data": {
            "text/plain": [
              "{-3, -2, -1, 6, 7, 8, 9}"
            ]
          },
          "metadata": {
            "tags": []
          },
          "execution_count": 33
        }
      ]
    },
    {
      "cell_type": "markdown",
      "metadata": {
        "id": "dK3BFF2RMXG4",
        "colab_type": "text"
      },
      "source": [
        ""
      ]
    }
  ]
}