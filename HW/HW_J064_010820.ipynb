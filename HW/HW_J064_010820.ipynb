{
  "nbformat": 4,
  "nbformat_minor": 0,
  "metadata": {
    "colab": {
      "name": "HW_J064_010820.ipynb",
      "provenance": [],
      "authorship_tag": "ABX9TyOrdDA9SfYrm+w8Iy2NQa8E",
      "include_colab_link": true
    },
    "kernelspec": {
      "name": "python3",
      "display_name": "Python 3"
    }
  },
  "cells": [
    {
      "cell_type": "markdown",
      "metadata": {
        "id": "view-in-github",
        "colab_type": "text"
      },
      "source": [
        "<a href=\"https://colab.research.google.com/github/aniketmodi-work/AI-NMIMS/blob/master/HW/HW_J064_010820.ipynb\" target=\"_parent\"><img src=\"https://colab.research.google.com/assets/colab-badge.svg\" alt=\"Open In Colab\"/></a>"
      ]
    },
    {
      "cell_type": "markdown",
      "metadata": {
        "id": "F-rdDWr5qn_m",
        "colab_type": "text"
      },
      "source": [
        "# Assignment 3 - Hackerrank Coding Challenge #2"
      ]
    },
    {
      "cell_type": "markdown",
      "metadata": {
        "id": "J3UA87Jgq50-",
        "colab_type": "text"
      },
      "source": [
        "Challenge 1: **Validating Postal Codes**\n",
        "https://www.hackerrank.com/challenges/validating-postalcode/problem"
      ]
    },
    {
      "cell_type": "code",
      "metadata": {
        "id": "XonXiifnqLkp",
        "colab_type": "code",
        "colab": {
          "base_uri": "https://localhost:8080/",
          "height": 50
        },
        "outputId": "279dac7c-26e2-48e1-a3ba-689bfcd208bb"
      },
      "source": [
        "regex_integer_in_range = r\"^[1-9][\\d]{5}$\"    \n",
        "regex_alternating_repetitive_digit_pair = r\"(\\d)(?=\\d\\1)\"\n",
        "\n",
        "import re\n",
        "P = input()\n",
        "\n",
        "print (bool(re.match(regex_integer_in_range, P)) \n",
        "and len(re.findall(regex_alternating_repetitive_digit_pair, P)) < 2)"
      ],
      "execution_count": 2,
      "outputs": [
        {
          "output_type": "stream",
          "text": [
            "110000\n",
            "False\n"
          ],
          "name": "stdout"
        }
      ]
    },
    {
      "cell_type": "markdown",
      "metadata": {
        "id": "PmpVc7YSuF1w",
        "colab_type": "text"
      },
      "source": [
        "Challenge 2: **The Coin Change Problem**\n",
        "https://www.hackerrank.com/challenges/coin-change/problem"
      ]
    },
    {
      "cell_type": "code",
      "metadata": {
        "id": "3g_FtGU3rGc1",
        "colab_type": "code",
        "colab": {
          "base_uri": "https://localhost:8080/",
          "height": 67
        },
        "outputId": "790f2cc9-8da8-40e2-e923-48a4d83b271c"
      },
      "source": [
        "import math\n",
        "import os\n",
        "import randomimport math\n",
        "import os\n",
        "import random\n",
        "import re\n",
        "import sys\n",
        "\n",
        "def cost(B):\n",
        "    n= len(B)\n",
        "    Last,First=0,0  #Initialising First & Last\n",
        "    for i in range(1,n):   #Note we have skip Index Zero\n",
        "      LTF,FTL,LTL = abs(B[i-1] - 1),abs(B[i] - 1),abs(B[i] - B[i-1])   #Initialising LTF(Last_to_First), FTL(First_to_Last), LTL(Last_to_Last)\n",
        "      NF = max(First, Last+LTF)       #NF (New_First) will help to find maximum between First & (Last+LTF)\n",
        "      NL = max(Last+LTL, First+FTL)   #NL(New_Last) will help to find maximum between (Last+LTL) & (First+FTL)\n",
        "      First = NF   #Updating First with NF\n",
        "      Last = NL    #Updating Last with NL\n",
        "    return max (Last,First)  #After all iteration it will return  maximun of First & Last and that will be the MAXIMUM COST\n",
        "\n",
        "t = int(input(\"Enter no of test cases: \"))\n",
        "for x in range(t):\n",
        "  n = int(input(\"Enter the length of Test Case:\"))\n",
        "  A = list(map(int, input(\"Enter the Integers of the Test Case:\").rstrip().split()))\n",
        "  maxcost = cost(A)\n",
        "  print(\"Maximum Cost of\",x+1,\"Test Case =\",maxcost)\n",
        "def getWays(n, c):\n",
        "    m = len(c)                                  # Initialsing variable m to length of c\n",
        "    table = [0 for k in range(n+1)]             # Making the variable table till the range of  (Amount + 1) \n",
        "    table[0] = 1                                # Initalising Index 0 of table = 1        \n",
        "    for i in range(0,m):                        # Running the nested for loops 1st one till 'm' \n",
        "        for j in range(c[i],n+1):               # Running the second from c[i] to the (Amount+1)\n",
        "            table[j]=table[j]+table[j-c[i]] \n",
        "  \n",
        "    return table[n]                             # Returning the total number of combinations by printing the nth index of table\n",
        "                                                # As nth index has total number of combination\n",
        "#Assigning the inputs correctly\n",
        "first_multiple_input = input().rstrip().split() # Using list to assign inputs\n",
        "n = int(first_multiple_input[0])                # Assigning n: The Amount to make change for\n",
        "m = int(first_multiple_input[1])                # Assigning m :The No. of coin types\n",
        "c = list(map(int, input().rstrip().split()))    # Assigning c: Array of integers representing available denominations\n",
        "\n",
        "ways = getWays(n, c)                            # Print the number of ways of making change for 'n' units using coins having the values given by 'c'\n",
        "print(ways)"
      ],
      "execution_count": 4,
      "outputs": [
        {
          "output_type": "stream",
          "text": [
            "10 4\n",
            "2 5 3 6\n",
            "5\n"
          ],
          "name": "stdout"
        }
      ]
    },
    {
      "cell_type": "markdown",
      "metadata": {
        "id": "W-0ND_79v1SM",
        "colab_type": "text"
      },
      "source": [
        "Challenge 3: **Sherlock and Cost** https://www.hackerrank.com/challenges/sherlock-and-cost/problem"
      ]
    },
    {
      "cell_type": "code",
      "metadata": {
        "id": "sVuEE_iItBM3",
        "colab_type": "code",
        "colab": {
          "base_uri": "https://localhost:8080/",
          "height": 84
        },
        "outputId": "af31672d-c228-4879-e81b-f2544fdf7677"
      },
      "source": [
        "#!/bin/python3\n",
        "\n",
        "import math\n",
        "import os\n",
        "import random\n",
        "import re\n",
        "import sys\n",
        "\n",
        "testcase=int(input())\n",
        "for i in range(testcase):\n",
        "    n=int(input())\n",
        "    b=[int(x) for x in input().split(' ')]    \n",
        "    maxi, max1 = 0, 0\n",
        "    for i in range(1,len(b)):\n",
        "        curr, prev = b[i], b[i-1]\n",
        "        newmaxi = max(maxi + abs(curr - prev), max1 + (curr - 1))\n",
        "        newmax1 = max(maxi + abs(1 - prev), max1)\n",
        "        maxi, max1 = newmaxi, newmax1    \n",
        "    print(max(maxi, max1))"
      ],
      "execution_count": 5,
      "outputs": [
        {
          "output_type": "stream",
          "text": [
            "1\n",
            "5\n",
            "10 1 10 1 10\n",
            "36\n"
          ],
          "name": "stdout"
        }
      ]
    }
  ]
}