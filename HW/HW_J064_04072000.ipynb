{
  "nbformat": 4,
  "nbformat_minor": 0,
  "metadata": {
    "colab": {
      "name": "HW_J064_04072000.ipynb",
      "provenance": [],
      "authorship_tag": "ABX9TyMo0XKaLfL07UOmWGayA40f",
      "include_colab_link": true
    },
    "kernelspec": {
      "name": "python3",
      "display_name": "Python 3"
    }
  },
  "cells": [
    {
      "cell_type": "markdown",
      "metadata": {
        "id": "view-in-github",
        "colab_type": "text"
      },
      "source": [
        "<a href=\"https://colab.research.google.com/github/aniketmodi-work/AI-NMIMS/blob/master/HW/HW_J064_04072000.ipynb\" target=\"_parent\"><img src=\"https://colab.research.google.com/assets/colab-badge.svg\" alt=\"Open In Colab\"/></a>"
      ]
    },
    {
      "cell_type": "markdown",
      "metadata": {
        "id": "uwqlc3ZEPfp0",
        "colab_type": "text"
      },
      "source": [
        "# AI PRACTICALS 1 - HACKERRANK CHALLENGE"
      ]
    },
    {
      "cell_type": "markdown",
      "metadata": {
        "id": "FgXiE_G5Pscb",
        "colab_type": "text"
      },
      "source": [
        "## Say \"Hello, World!\" With Python"
      ]
    },
    {
      "cell_type": "code",
      "metadata": {
        "id": "xM4fXfKUPTxU",
        "colab_type": "code",
        "colab": {
          "base_uri": "https://localhost:8080/",
          "height": 34
        },
        "outputId": "cff5ab87-11e2-4627-cf01-19a1ec62401c"
      },
      "source": [
        "print(\"Hello, World!\")"
      ],
      "execution_count": 1,
      "outputs": [
        {
          "output_type": "stream",
          "text": [
            "Hello, World!\n"
          ],
          "name": "stdout"
        }
      ]
    },
    {
      "cell_type": "markdown",
      "metadata": {
        "id": "dAAzUrifRoio",
        "colab_type": "text"
      },
      "source": [
        "## Python If-Else"
      ]
    },
    {
      "cell_type": "code",
      "metadata": {
        "id": "V6RBXjZsRnGI",
        "colab_type": "code",
        "colab": {}
      },
      "source": [
        "import math\n",
        "import os\n",
        "import random\n",
        "import re\n",
        "import sys\n"
      ],
      "execution_count": 2,
      "outputs": []
    },
    {
      "cell_type": "code",
      "metadata": {
        "id": "SESJZrD0SmUB",
        "colab_type": "code",
        "colab": {
          "base_uri": "https://localhost:8080/",
          "height": 50
        },
        "outputId": "495cd2b6-5744-488f-8cac-fba739c8726f"
      },
      "source": [
        "n = int(input())\n",
        "if n % 2 == 0:\n",
        "    if n in range(2,6):\n",
        "        print(\"Not Weird\")\n",
        "\n",
        "    elif n in range(6,21):\n",
        "        print(\"Weird\")\n",
        "\n",
        "    elif n > 20:\n",
        "        print(\"Not Weird\")\n",
        "else:\n",
        "    print(\"Weird\")"
      ],
      "execution_count": 5,
      "outputs": [
        {
          "output_type": "stream",
          "text": [
            "101\n",
            "Weird\n"
          ],
          "name": "stdout"
        }
      ]
    },
    {
      "cell_type": "markdown",
      "metadata": {
        "id": "X8hI75y8Uo88",
        "colab_type": "text"
      },
      "source": [
        "## Arithmetic Operators"
      ]
    },
    {
      "cell_type": "code",
      "metadata": {
        "id": "w4Ipq2TXU17q",
        "colab_type": "code",
        "colab": {}
      },
      "source": [
        "if __name__ == '__main__':\n",
        "    a = int(input())\n",
        "    b = int(input())\n",
        "    print(a+b)\n",
        "    print(a-b)\n",
        "    print(a*b)"
      ],
      "execution_count": null,
      "outputs": []
    },
    {
      "cell_type": "markdown",
      "metadata": {
        "id": "1sB7FQLEWDOL",
        "colab_type": "text"
      },
      "source": [
        "## Python: Division\n",
        "\n"
      ]
    },
    {
      "cell_type": "code",
      "metadata": {
        "id": "OiReHAmcXfTs",
        "colab_type": "code",
        "colab": {}
      },
      "source": [
        "if __name__ == '__main__':\n",
        "    a = int(input())\n",
        "    b = int(input())\n",
        "    print(a+b)\n",
        "    print(a-b)\n",
        "    print(a*b)"
      ],
      "execution_count": null,
      "outputs": []
    },
    {
      "cell_type": "markdown",
      "metadata": {
        "id": "sTTfMpF1WCCs",
        "colab_type": "text"
      },
      "source": [
        "## Loops\n"
      ]
    },
    {
      "cell_type": "code",
      "metadata": {
        "id": "6BVVroeIX0D4",
        "colab_type": "code",
        "colab": {
          "base_uri": "https://localhost:8080/",
          "height": 118
        },
        "outputId": "edb5472c-5bb5-44a9-c294-af69751ad2ce"
      },
      "source": [
        "if __name__ == '__main__':\n",
        "    n = int(input())\n",
        "\n",
        "    for i in range(0, n):\n",
        "      print(i*i)"
      ],
      "execution_count": 9,
      "outputs": [
        {
          "output_type": "stream",
          "text": [
            "5\n",
            "0\n",
            "1\n",
            "4\n",
            "9\n",
            "16\n"
          ],
          "name": "stdout"
        }
      ]
    },
    {
      "cell_type": "markdown",
      "metadata": {
        "id": "sKzUR5Y0YoUT",
        "colab_type": "text"
      },
      "source": [
        "## Print Function"
      ]
    },
    {
      "cell_type": "code",
      "metadata": {
        "id": "cGP3-YjPYy-1",
        "colab_type": "code",
        "colab": {}
      },
      "source": [
        "if __name__ == '__main__':\n",
        "    n = int(input())\n",
        "    for i in range(1, n+1):\n",
        "        print(i, end=\"\")"
      ],
      "execution_count": 21,
      "outputs": []
    },
    {
      "cell_type": "markdown",
      "metadata": {
        "id": "kU2Tzej6d-kt",
        "colab_type": "text"
      },
      "source": [
        "## List Comprehensions"
      ]
    },
    {
      "cell_type": "code",
      "metadata": {
        "id": "EVD07o1he8TX",
        "colab_type": "code",
        "colab": {
          "base_uri": "https://localhost:8080/",
          "height": 101
        },
        "outputId": "2fbf0881-c90d-42d2-d070-72f19dbe796b"
      },
      "source": [
        "if __name__ == '__main__':\n",
        "    x = int(input())\n",
        "    y = int(input())\n",
        "    z = int(input())\n",
        "    n = int(input())\n",
        "\n",
        "    a =[]\n",
        "    for i in range(0,x+1): \n",
        "        for j in range(0,y+1): \n",
        "             for k in range(0,z+1): \n",
        "               if(i+j+k != n):\n",
        "                   a.append([i,j,k])\n",
        "\n",
        "\n",
        "    print (a)"
      ],
      "execution_count": 27,
      "outputs": [
        {
          "output_type": "stream",
          "text": [
            "1\n",
            "1\n",
            "1\n",
            "2\n",
            "[[0, 0, 0], [0, 0, 1], [0, 1, 0], [1, 0, 0], [1, 1, 1]]\n"
          ],
          "name": "stdout"
        }
      ]
    }
  ]
}