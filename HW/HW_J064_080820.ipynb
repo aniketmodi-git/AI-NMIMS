{
  "nbformat": 4,
  "nbformat_minor": 0,
  "metadata": {
    "colab": {
      "name": "HW_J064_080820.ipynb",
      "provenance": [],
      "authorship_tag": "ABX9TyPRxBJQNTVypA9N0em+mXz4",
      "include_colab_link": true
    },
    "kernelspec": {
      "name": "python3",
      "display_name": "Python 3"
    }
  },
  "cells": [
    {
      "cell_type": "markdown",
      "metadata": {
        "id": "view-in-github",
        "colab_type": "text"
      },
      "source": [
        "<a href=\"https://colab.research.google.com/github/aniketmodi-work/AI-NMIMS/blob/master/HW/HW_J064_080820.ipynb\" target=\"_parent\"><img src=\"https://colab.research.google.com/assets/colab-badge.svg\" alt=\"Open In Colab\"/></a>"
      ]
    },
    {
      "cell_type": "markdown",
      "metadata": {
        "id": "xZZ_UXwgEV1h",
        "colab_type": "text"
      },
      "source": [
        "## Assignment 4 - Knapsack Problem"
      ]
    },
    {
      "cell_type": "markdown",
      "metadata": {
        "id": "7ChEjUv7Egt8",
        "colab_type": "text"
      },
      "source": [
        "### Link: https://www.hackerrank.com/contests/w15/challenges/a-knapsack-problem/problem"
      ]
    },
    {
      "cell_type": "markdown",
      "metadata": {
        "id": "OMWPzRnAElYR",
        "colab_type": "text"
      },
      "source": [
        "###Code:"
      ]
    },
    {
      "cell_type": "code",
      "metadata": {
        "id": "lBc5HalOEf-6",
        "colab_type": "code",
        "colab": {}
      },
      "source": [
        "import sys\n",
        "import heapq"
      ],
      "execution_count": 1,
      "outputs": []
    },
    {
      "cell_type": "code",
      "metadata": {
        "id": "FqcSEJ15DV-u",
        "colab_type": "code",
        "colab": {}
      },
      "source": [
        "def result(N,M,S,V,E) :\n",
        "\n",
        "    T = tuple(set() for i in range(N))\n",
        "    for u,v in E :\n",
        "        T[u].add(v)\n",
        "        T[v].add(u)\n",
        "    Total, order, maxval = sum(V), sorted(range(n), reverse=True, key=(lambda i : V[i]/S[i])), 0\n",
        "        \n",
        "    def getMax(accessed, connected, rejected, size, val, rejectedValue, maxval) :\n",
        "        if val > maxval :\n",
        "            maxval = val\n",
        "        if not connected :\n",
        "            return maxval\n",
        "        i = Best(connected)\n",
        "        if size + S[i] <= M :\n",
        "            maxval = getMax(accessed|{i}, (connected-{i}) | (T[i]-rejected-accessed), rejected, size+S[i], val+V[i], rejectedValue, maxval)\n",
        "        if Total - (rejectedValue + V[i]) > maxval :\n",
        "            maxval = getMax(accessed|{i}, connected-{i}, rejected | {i}, size, val, rejectedValue + V[i], maxval)\n",
        "        return maxval\n",
        "\n",
        "    def Best(connected) :\n",
        "        for i in order :\n",
        "            if i in connected :\n",
        "                return i\n",
        "    for s in order :\n",
        "        maxval = getMax(set(),{s},set(),0,0,0,maxval)\n",
        "\n",
        "    return maxval"
      ],
      "execution_count": 2,
      "outputs": []
    },
    {
      "cell_type": "code",
      "metadata": {
        "id": "30RXV7DiEyN7",
        "colab_type": "code",
        "colab": {
          "base_uri": "https://localhost:8080/",
          "height": 185
        },
        "outputId": "4ea7b1dd-6dd2-4048-80e6-15db5807a6e3"
      },
      "source": [
        "#Input 1 \n",
        "\n",
        "T = int(input())\n",
        "for i in range(T) :\n",
        "    n,m = (int(i) for i in input().split())\n",
        "    s = tuple(int(i) for i in input().split())\n",
        "    v = tuple(int(i) for i in input().split())\n",
        "    e = tuple((int(i)-1 for i in input().split()) for i in range(n-1))\n",
        "    print(\"\\n\")\n",
        "    print(\"output\")\n",
        "    print(result(n,m,s,v,e))"
      ],
      "execution_count": 3,
      "outputs": [
        {
          "output_type": "stream",
          "text": [
            "1\n",
            "3 1\n",
            "1 1 1\n",
            "1 2 3\n",
            "1 2\n",
            "1 3\n",
            "\n",
            "\n",
            "output\n",
            "3\n"
          ],
          "name": "stdout"
        }
      ]
    },
    {
      "cell_type": "code",
      "metadata": {
        "id": "qUqsfQm6E1hI",
        "colab_type": "code",
        "colab": {
          "base_uri": "https://localhost:8080/",
          "height": 218
        },
        "outputId": "5823ba5f-30ed-4f38-f364-11d869c0f225"
      },
      "source": [
        "#Input 2\n",
        "\n",
        "T = int(input())\n",
        "for i in range(T) :\n",
        "    n,m = (int(i) for i in input().split())\n",
        "    s = tuple(int(i) for i in input().split())\n",
        "    v = tuple(int(i) for i in input().split())\n",
        "    e = tuple((int(i)-1 for i in input().split()) for i in range(n-1))\n",
        "    print(\"\\n\")\n",
        "    print(\"output\")\n",
        "    print(result(n,m,s,v,e))"
      ],
      "execution_count": 4,
      "outputs": [
        {
          "output_type": "stream",
          "text": [
            "1\n",
            "5 3\n",
            "1 1 1 1 1\n",
            "3 5 2 2 3\n",
            "1 2\n",
            "1 3\n",
            "2 4\n",
            "2 5\n",
            "\n",
            "\n",
            "output\n",
            "11\n"
          ],
          "name": "stdout"
        }
      ]
    },
    {
      "cell_type": "code",
      "metadata": {
        "id": "CHepje2AFBcI",
        "colab_type": "code",
        "colab": {
          "base_uri": "https://localhost:8080/",
          "height": 286
        },
        "outputId": "c854b206-32b9-4be6-9e5e-9b7813057593"
      },
      "source": [
        "#Input 3\n",
        "\n",
        "T = int(input())\n",
        "for i in range(T) :\n",
        "    n,m = (int(i) for i in input().split())\n",
        "    s = tuple(int(i) for i in input().split())\n",
        "    v = tuple(int(i) for i in input().split())\n",
        "    e = tuple((int(i)-1 for i in input().split()) for i in range(n-1))\n",
        "    print(\"\\n\")\n",
        "    print(\"output\")\n",
        "    print(result(n,m,s,v,e))"
      ],
      "execution_count": 5,
      "outputs": [
        {
          "output_type": "stream",
          "text": [
            "1\n",
            "9 7\n",
            "1 1 3 2 1 1 1 5 5\n",
            "1 0 8 5 1 2 0 9 14\n",
            "1 2\n",
            "2 3\n",
            "2 4\n",
            "3 5\n",
            "3 6\n",
            "4 7\n",
            "4 8\n",
            "7 9\n",
            "\n",
            "\n",
            "output\n",
            "15\n"
          ],
          "name": "stdout"
        }
      ]
    }
  ]
}